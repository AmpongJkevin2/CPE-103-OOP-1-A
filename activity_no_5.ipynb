{
  "nbformat": 4,
  "nbformat_minor": 0,
  "metadata": {
    "colab": {
      "provenance": [],
      "authorship_tag": "ABX9TyNBz8pojVfuGUCTD06RLK5H",
      "include_colab_link": true
    },
    "kernelspec": {
      "name": "python3",
      "display_name": "Python 3"
    },
    "language_info": {
      "name": "python"
    }
  },
  "cells": [
    {
      "cell_type": "markdown",
      "metadata": {
        "id": "view-in-github",
        "colab_type": "text"
      },
      "source": [
        "<a href=\"https://colab.research.google.com/github/AmpongJkevin2/CPE-103-OOP-1-A/blob/main/activity_no_5.ipynb\" target=\"_parent\"><img src=\"https://colab.research.google.com/assets/colab-badge.svg\" alt=\"Open In Colab\"/></a>"
      ]
    },
    {
      "cell_type": "markdown",
      "source": [
        "# Exploring builtinfunctions"
      ],
      "metadata": {
        "id": "DhaHBuQFlnW4"
      }
    },
    {
      "cell_type": "code",
      "execution_count": null,
      "metadata": {
        "colab": {
          "base_uri": "https://localhost:8080/"
        },
        "id": "bLWSC7E6jw0C",
        "outputId": "e0d54351-638a-453c-fb7b-417ff99ea1aa"
      },
      "outputs": [
        {
          "output_type": "stream",
          "name": "stdout",
          "text": [
            "Propositional logic evaluator for discrete math\n",
            "How many variables? 2\n",
            "Enter the propositional logic expression: 10\n",
            "A B f\n",
            "0 0 10\n",
            "0 1 10\n",
            "1 0 10\n",
            "1 1 10\n"
          ]
        }
      ],
      "source": [
        "# Propositional logic evaluator for discrete math for 2-3 variables\n",
        "print(\"Propositional logic evaluator for discrete math\")\n",
        "\n",
        "variables = int(input(\"How many variables? \"))\n",
        "total_combinations = 2**variables\n",
        "\n",
        "combinations_list = [] # store all the possible combinations\n",
        "\n",
        "# generate the combinations\n",
        "for i in range(total_combinations):\n",
        "    bin_equivalent = bin(i)[2:]\n",
        "\n",
        "    while len(bin_equivalent) < variables:\n",
        "        bin_equivalent = \"0\" + bin_equivalent\n",
        "\n",
        "    combinations_list.append(tuple(int(val) for val in bin_equivalent))\n",
        "    # this will generate a list with values [(0,0), (0,1), (1,0), (1,1)]\n",
        "\n",
        "# main program\n",
        "expression = input(\"Enter the propositional logic expression: \")\n",
        "\n",
        "# note: Only the Letters A, B, and C are allowed to be used\n",
        "# example: not (A and B) or (A and C)\n",
        "\n",
        "if variables == 2:\n",
        "    print(\"A B f\")\n",
        "\n",
        "    for A, B in combinations_list:\n",
        "        evaluated_expression = eval(expression)\n",
        "        print(A, B, evaluated_expression)\n",
        "\n",
        "elif variables == 3:\n",
        "    print(\"A B C f\")\n",
        "    for A, B, C in combinations_list:\n",
        "        evaluated_expression = eval(expression)\n",
        "        print(A, B, C, evaluated_expression)"
      ]
    },
    {
      "cell_type": "markdown",
      "source": [
        "# Using the open() function for file handling"
      ],
      "metadata": {
        "id": "xzaBLdPI5trN"
      }
    },
    {
      "cell_type": "code",
      "source": [
        "name = \"Royce Chua\"\n",
        "file = open(\"newfile1.txt\", 'w')\n",
        "file.write(f\"Hello, {name}!\\n\")\n",
        "file.write(\"Isn't this amazing!\\n\")\n",
        "file.write(\"that we can create and write on text files\\n\")\n",
        "file.write(\"using Python.\")\n",
        "file.close()"
      ],
      "metadata": {
        "id": "S0j260lKlmvH"
      },
      "execution_count": null,
      "outputs": []
    },
    {
      "cell_type": "code",
      "source": [
        "name = \"Royce Chua\"\n",
        "file = open(\"new.txt\", 'w')\n",
        "\n",
        "file.write(f\"Hello, {name}!\\n\")\n",
        "file.write(\"This was created using Python!\\n\")\n",
        "file.close()\n",
        "\n",
        "file = open(\"newfile1.txt\", \"r\")\n",
        "data = file.read()\n",
        "print(data)\n",
        "file.close()\n",
        "\n",
        "file = open(\"newfile1.txt\", 'a')\n",
        "file.write(\"and also by the programmer of course. \")\n",
        "file.close()\n"
      ],
      "metadata": {
        "colab": {
          "base_uri": "https://localhost:8080/"
        },
        "id": "Go2ByzjO4ttd",
        "outputId": "96adcb5e-88c3-4d50-9ad7-ec9df585310b"
      },
      "execution_count": null,
      "outputs": [
        {
          "output_type": "stream",
          "name": "stdout",
          "text": [
            "Hello, Royce Chua!\n",
            "Isn't this amazing!\n",
            "that we can create and write on text files\n",
            "using Python.and also by the programmer of course. \n"
          ]
        }
      ]
    },
    {
      "cell_type": "markdown",
      "source": [
        "# User-defined Functions"
      ],
      "metadata": {
        "id": "n8dkBGkC6E9u"
      }
    },
    {
      "cell_type": "code",
      "source": [
        "def generate_truthtable(number_of_variables):\n",
        "    total_combinations = 2**number_of_variables\n",
        "    combinations_list = []\n",
        "    for i in range(total_combinations):\n",
        "        bin_equivalent = bin(i)[2:]\n",
        "        while len(bin_equivalent) < number_of_variables:\n",
        "            bin_equivalent = \"0\" + bin_equivalent\n",
        "        combinations_list.append(tuple(int(val) for val in bin_equivalent))\n",
        "    return combinations_list\n",
        "\n",
        "print(generate_truthtable(3))"
      ],
      "metadata": {
        "colab": {
          "base_uri": "https://localhost:8080/"
        },
        "id": "mXFjCdUo6FJF",
        "outputId": "85bd18c2-3f91-47ed-ccca-234852a8b14e"
      },
      "execution_count": null,
      "outputs": [
        {
          "output_type": "stream",
          "name": "stdout",
          "text": [
            "[(0, 0, 0), (0, 0, 1), (0, 1, 0), (0, 1, 1), (1, 0, 0), (1, 0, 1), (1, 1, 0), (1, 1, 1)]\n"
          ]
        }
      ]
    },
    {
      "cell_type": "code",
      "source": [
        "def generate_truthtable(number_of_variables):\n",
        "    if number_of_variables == 0:\n",
        "        return \"You need to enter an integer\"\n",
        "    else:\n",
        "        total_combinations = 2**number_of_variables\n",
        "        combinations_list = []\n",
        "    for i in range(total_combinations):\n",
        "        bin_equivalent = bin(i)[2:]\n",
        "        while len(bin_equivalent) < number_of_variables:\n",
        "            bin_equivalent = \"0\" + bin_equivalent\n",
        "        combinations_list.append(tuple(int(val) for val in bin_equivalent))\n",
        "    return combinations_list\n",
        "\n",
        "print(generate_truthtable(3))"
      ],
      "metadata": {
        "colab": {
          "base_uri": "https://localhost:8080/"
        },
        "id": "YAtHGpCy6mwd",
        "outputId": "bb4195b9-80e5-45b5-8262-d0ae016a8616"
      },
      "execution_count": null,
      "outputs": [
        {
          "output_type": "stream",
          "name": "stdout",
          "text": [
            "[(0, 0, 0), (0, 0, 1), (0, 1, 0), (0, 1, 1), (1, 0, 0), (1, 0, 1), (1, 1, 0), (1, 1, 1)]\n"
          ]
        }
      ]
    },
    {
      "cell_type": "markdown",
      "source": [
        "# Modules\n",
        "# Built-in Modules math module"
      ],
      "metadata": {
        "id": "WeASm65CJjOi"
      }
    },
    {
      "cell_type": "code",
      "source": [
        "import math\n",
        "\n",
        "def quadratic_formula(a,b,c):\n",
        "    if b**2-(4*a*c) < 0:\n",
        "        x1 = (complex(-b,math.floor(math.sqrt(abs(b**2-(4*a*c))))))/(2*a)\n",
        "        x2 = (complex(-b,-1*math.floor(math.sqrt(abs(b**2-(4*a*c))))))/(2*a)\n",
        "        return x1, x2\n",
        "    else:\n",
        "        x1 = (-b+math.sqrt(b**2-(4*a*c)))/(2*a)\n",
        "        x2 = (-b-math.sqrt(b**2-(4*a*c)))/(2*a)\n",
        "        return x1, x2\n",
        "\n",
        "print(quadratic_formula(1,2,3))"
      ],
      "metadata": {
        "colab": {
          "base_uri": "https://localhost:8080/"
        },
        "id": "cxF7UtlzJji4",
        "outputId": "a40e2a54-2467-480b-a7bc-82f0ee155cd2"
      },
      "execution_count": null,
      "outputs": [
        {
          "output_type": "stream",
          "name": "stdout",
          "text": [
            "((-1+1j), (-1-1j))\n"
          ]
        }
      ]
    },
    {
      "cell_type": "code",
      "source": [
        "import math\n",
        "\n",
        "def angle_demo():\n",
        "    angle = math.sin(math.pi/2)\n",
        "\n",
        "    print(angle)\n",
        "\n",
        "    angle = math.sin(math.radians(90))\n",
        "\n",
        "    print(angle)\n",
        "\n",
        "angle_demo()"
      ],
      "metadata": {
        "id": "w-IcvBz1QdLL"
      },
      "execution_count": null,
      "outputs": []
    },
    {
      "cell_type": "markdown",
      "source": [
        "# time and datetime module"
      ],
      "metadata": {
        "id": "3kjkwQ6gQg4a"
      }
    },
    {
      "cell_type": "code",
      "source": [
        "import time\n",
        "\n",
        "def pause():\n",
        "    for i in range(10,0,-1):\n",
        "        print(f\"The program will end in {i}..\")\n",
        "        time.sleep(1)\n",
        "\n",
        "pause()"
      ],
      "metadata": {
        "colab": {
          "base_uri": "https://localhost:8080/"
        },
        "id": "qRTsNZdxQhAD",
        "outputId": "0a847e08-0d61-4ef4-fcad-702726fbdfd3"
      },
      "execution_count": null,
      "outputs": [
        {
          "output_type": "stream",
          "name": "stdout",
          "text": [
            "The program will end in 10..\n",
            "The program will end in 9..\n",
            "The program will end in 8..\n",
            "The program will end in 7..\n",
            "The program will end in 6..\n",
            "The program will end in 5..\n",
            "The program will end in 4..\n",
            "The program will end in 3..\n",
            "The program will end in 2..\n",
            "The program will end in 1..\n"
          ]
        }
      ]
    },
    {
      "cell_type": "code",
      "source": [
        "def current_time():\n",
        "    t = time.strftime(\"%I:%M%p\")\n",
        "    return t\n",
        "\n",
        "print(current_time())"
      ],
      "metadata": {
        "colab": {
          "base_uri": "https://localhost:8080/"
        },
        "id": "n4aWIurXQryT",
        "outputId": "0aaf88db-0b14-47d2-fb35-c9faafd9b36f"
      },
      "execution_count": null,
      "outputs": [
        {
          "output_type": "stream",
          "name": "stdout",
          "text": [
            "10:59AM\n"
          ]
        }
      ]
    },
    {
      "cell_type": "code",
      "source": [
        "def current_date():\n",
        "    d = time.strftime(\"%b %d %Y\")\n",
        "    return d\n",
        "\n",
        "print(current_date())"
      ],
      "metadata": {
        "colab": {
          "base_uri": "https://localhost:8080/"
        },
        "id": "6EXqy0i0Q1RS",
        "outputId": "e652aefe-83aa-4706-bed5-5c73a53328ae"
      },
      "execution_count": null,
      "outputs": [
        {
          "output_type": "stream",
          "name": "stdout",
          "text": [
            "Feb 15 2025\n"
          ]
        }
      ]
    },
    {
      "cell_type": "markdown",
      "source": [
        "# User-defined Modules"
      ],
      "metadata": {
        "id": "CM0QoEs1SFJ6"
      }
    },
    {
      "cell_type": "code",
      "source": [
        "import time\n",
        "\n",
        "def pause():\n",
        "    for i in range(10, 0, -1):\n",
        "        print(f\"The program will end in {i}..\")\n",
        "        time.sleep(1)\n",
        "\n",
        "def current_time():\n",
        "    t = time.strftime(\"%I:%M%p\")\n",
        "    return t\n",
        "\n",
        "def current_date():\n",
        "    d = time.strftime(\"%b %d %Y\")\n",
        "    return d\n",
        "\n",
        "print(\"The current time is\", current_time())\n",
        "#print(\"The current date is\", current_date())"
      ],
      "metadata": {
        "colab": {
          "base_uri": "https://localhost:8080/"
        },
        "id": "5sYS7ehEuwK2",
        "outputId": "3d1e6616-98c3-4e8d-f7e3-689491a31ac9"
      },
      "execution_count": null,
      "outputs": [
        {
          "output_type": "stream",
          "name": "stdout",
          "text": [
            "The current time is 11:06AM\n"
          ]
        }
      ]
    },
    {
      "cell_type": "markdown",
      "source": [
        "# Tasks"
      ],
      "metadata": {
        "id": "_-hvpl8cStva"
      }
    },
    {
      "cell_type": "code",
      "source": [
        "text = \"this is a example of bad words like shit , dumb and idiot\"\n",
        "censored_text = \"\"\n",
        "\n",
        "for i in text.split(\" \"):\n",
        "  if i.lower() in ['shit', 'dumb', 'idiot']:\n",
        "    censored_text += \"*\" * len(i) + \" \"\n",
        "  else:\n",
        "    censored_text += i + \" \"\n",
        "\n",
        "print(censored_text)"
      ],
      "metadata": {
        "colab": {
          "base_uri": "https://localhost:8080/"
        },
        "id": "_CxgS8Mn9svP",
        "outputId": "5dbf2840-6c7f-489a-dfa4-0b54bc45d5c3"
      },
      "execution_count": null,
      "outputs": [
        {
          "output_type": "stream",
          "name": "stdout",
          "text": [
            "this is a example of bad words like **** , **** and ***** \n"
          ]
        }
      ]
    },
    {
      "cell_type": "code",
      "source": [
        "import math\n",
        "\n",
        "def projectileMotion_solver(angle: float, speed: float):\n",
        "    g = 9.8\n",
        "    result = \"\"\n",
        "    R = (speed**2 * math.sin(2 * math.radians(angle))) / g\n",
        "    h = (speed**2 * (math.sin(math.radians(angle)))**2) / (2 * g)  # Corrected line\n",
        "    result = str(float(\"{:.4f}\".format(R))) + \" \" + str(float(\"{:.4f}\".format(h)))\n",
        "    return result\n",
        "\n",
        "result = projectileMotion_solver(20.0, 11.0).split(\" \")\n",
        "print(\"range/distance: {} meters, maximum height: {} meters\".format(result[0], result[1]))\n"
      ],
      "metadata": {
        "colab": {
          "base_uri": "https://localhost:8080/"
        },
        "id": "w-sGHzTRAheI",
        "outputId": "4806cfd1-3f3f-457f-f10d-43bec82fcd9e"
      },
      "execution_count": null,
      "outputs": [
        {
          "output_type": "stream",
          "name": "stdout",
          "text": [
            "range/distance: 7.9365 meters, maximum height: 0.7222 meters\n"
          ]
        }
      ]
    },
    {
      "cell_type": "code",
      "source": [
        "import math\n",
        "\n",
        "def solve_quadratic(a, b, c):\n",
        "    discriminant = b**2 - 4*a*c\n",
        "    if discriminant > 0:\n",
        "        root1 = (-b + math.sqrt(discriminant)) / (2 * a)\n",
        "        root2 = (-b - math.sqrt(discriminant)) / (2 * a)\n",
        "        return root1, root2\n",
        "    elif discriminant == 0:\n",
        "        root = -b / (2 * a)\n",
        "        return root,\n",
        "    else:\n",
        "        return \"No Real Roots\"\n",
        "\n",
        "def log_to_file(a, b, c, result):\n",
        "    with open(\"quadratic_solver_log.txt\", \"a\") as file:\n",
        "        file.write(f\"Equation: {a}x^2 + {b}x + {c} = 0\\n\")\n",
        "        file.write(f\"Solution: {result}\\n\")\n",
        "        file.write(\"-\" * 30 + \"\\n\")\n",
        "\n",
        "def main():\n",
        "    try:\n",
        "        a = float(input(\"Enter coefficient a: \"))\n",
        "        b = float(input(\"Enter coefficient b: \"))\n",
        "        c = float(input(\"Enter coefficient c: \"))\n",
        "\n",
        "        if a == 0:\n",
        "            print(\"Coefficient 'a' cannot be zero in a quadratic equation.\")\n",
        "            return\n",
        "\n",
        "        result = solve_quadratic(a, b, c)\n",
        "        print(\"Solution:\", result)\n",
        "        log_to_file(a, b, c, result)\n",
        "    except ValueError:\n",
        "        print(\"Invalid input! Please enter numerical values.\")\n",
        "\n",
        "if __name__ == \"__main__\":\n",
        "    main()"
      ],
      "metadata": {
        "colab": {
          "base_uri": "https://localhost:8080/"
        },
        "id": "ictgpCCSSyBb",
        "outputId": "74232bb4-bf94-471d-a402-58d52a58291c"
      },
      "execution_count": null,
      "outputs": [
        {
          "output_type": "stream",
          "name": "stdout",
          "text": [
            "Enter coefficient a: 3\n",
            "Enter coefficient b: 9\n",
            "Enter coefficient c: 0.25\n",
            "Solution: (-0.028039855612025377, -2.9719601443879746)\n"
          ]
        }
      ]
    }
  ]
}