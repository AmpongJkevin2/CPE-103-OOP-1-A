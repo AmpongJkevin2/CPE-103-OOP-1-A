{
  "cells": [
    {
      "cell_type": "markdown",
      "metadata": {
        "id": "view-in-github",
        "colab_type": "text"
      },
      "source": [
        "<a href=\"https://colab.research.google.com/github/AmpongJkevin2/CPE-103-OOP-1-A/blob/main/Format_of_Activity_2_2.ipynb\" target=\"_parent\"><img src=\"https://colab.research.google.com/assets/colab-badge.svg\" alt=\"Open In Colab\"/></a>"
      ]
    },
    {
      "cell_type": "markdown",
      "metadata": {
        "id": "xUKw6dtiGo-r"
      },
      "source": [
        "---\n",
        "<center>\n",
        "\n",
        "**University of Caloocan City**<br>\n",
        "Computer Engineering Department<br>\n",
        "Bagong Silang Campus</center>\n",
        "\n",
        "---\n",
        "<center><h4> Activity No. and Title:</h4></center>\n",
        "\n",
        "---\n",
        "<center>\n",
        "\n",
        "| Course: CPE 103 | Program: BSCpE |\n",
        "|--- | --- |\n",
        "| **Course Title**: Object Oriented Programming | **Date Performed:** 2/1/2025|\n",
        "| **Section**: 1A| **Date Submitted:** 2/1/2025|\n",
        "| **Student Name**: Ampong, J_kevin L.| **Instructor's Name:** Maam Sayo|\n",
        "</center>"
      ]
    },
    {
      "cell_type": "markdown",
      "source": [
        "**Objective/s of the activity:**\n",
        "\n",
        "1. Implement literals and variables in a python program.\n",
        "\n",
        "improve learning skills on different types of variables, conditions, and operations that are essentially for building complex software and programs. This activity should be a solid introduction on how to use different operations that are a solid foundation for solving a real-world problem. Not only does this improve your programming skills in Python, but it also helps with programming in general that will apply in real applications.\n",
        "\n",
        "**Intended Learning Outcome:**\n",
        "\n",
        "1. Write a simple program implementing literals and variables.\n",
        "2. Use comments and identify keywords from identifiers created by users.\n",
        "\n",
        "\n",
        "**Discussion:**\n",
        "\n",
        "This task is focused on building a solid foundation primarily on automating the calculation on the grading input by using different types of operations and implementation on computation. Creating a right solution to this problem using the correct data types, such as float, int, and string, is important to get the right data. It is a necessary step for implementing the right solution; moreover, this is essential for the formula to have the correct data type in it and must be taken as a proper check before proceeding with the calculation.\n",
        "\n",
        "**Task**\n",
        "\n",
        "1.  A teacher wants to calculate the final grade in a CpE course and want to write it in a python program. The following are the requirements:\n",
        "1.  PRELIM GRADE = 50% Prelim Exam + 50% Prelim Class Standing (CS)\n",
        "2.  PRELIM CS = 50% Hands-on activity + 30% Quiz + 20% Assignment\n",
        "3.  MIDTERM GRADE = 1/3 of PRELIM GRADE + 2/3 of (50% Midterm Exam + 50% Midterm Class Standing (CS))\n",
        "4.  MIDTERM CS = 50% Hands-on activity + 30% Quiz + 20% Assignment\n",
        "5.  FINAL GRADE = 1/3 of MIDTERM GRADE + 2/3 of (50% Final Exam + 50% Final Class Standing (CS))\n",
        "6.  FINAL CS = 50% Hands-on activity + 30% Quiz + 20% Assignment\n",
        "7.  HOAs, Quizzes and Assignments are inputted as average of all submissions and are out of 100%.\n",
        "8.  Major exams are inputted out of 100%.\n",
        "9.  Show the codes that successfully run the program.\n",
        "10. Provide comments or documentation strings for your program.\n",
        "\n",
        "\n",
        "**Materials and Equipment:**\n",
        "\n",
        "1. Google Colab\n",
        "2. Github\n",
        "3. desktop Computer\n",
        "\n",
        "**Procedure:**"
      ],
      "metadata": {
        "id": "gNe4D_l5JGiM"
      }
    },
    {
      "cell_type": "markdown",
      "source": [
        "\n",
        "```markdown\n",
        "1. Enter student name\n",
        "2. Input Prelim grades (Exam, Activities, Quiz, Assignment)\n",
        "3. System calculates Prelim grade\n",
        "Input Midterm grades (Exam, Activities, Quiz, Assignment)\n",
        "4. System calculates Midterm grade\n",
        "Input Final grades (Exam, Activities, Quiz, Assignment)\n",
        "5. System calculates Final grade\n",
        "6. Display all grades and UCC equivalent\n",
        "```"
      ],
      "metadata": {
        "id": "7HZ1NBj8rBS7"
      }
    },
    {
      "cell_type": "markdown",
      "source": [
        "**Supplementary Activity**:\n",
        "\n",
        "1. Test 3 students from the program you created.\n",
        "2.\tThe program should show the name of the student, the PRELIM, MIDTERM and FINAL grades.\n",
        "3.\tConvert the final grade into the UCCs numerical grade. Please refer to the grading system.\n",
        "4.\tDocument your lab activity properly using Markdown codes.\n",
        "5.\tAnswer all the supplementary activities (programs and questions).\n",
        "6.\tWrite your conclusion.\n",
        "7.\tConvert your notebook into a PDF file and submit the PDF to the link.\n"
      ],
      "metadata": {
        "id": "bV8A708BKFuC"
      }
    },
    {
      "cell_type": "markdown",
      "source": [
        "\n",
        "\n",
        "```\n",
        "Enter student name: Ampong\n",
        "\n",
        "Enter Prelim Exam grade: 100\n",
        "Enter Hands-on Activity grade: 100\n",
        "Enter Prelim Quiz grade: 100\n",
        "Enter Prelim Assignment grade: 100\n",
        "\n",
        "Enter Midterm Exam grade: 100\n",
        "Enter Hands-on Activity grade: 100\n",
        "Enter Midterm Quiz grade: 100\n",
        "Enter Midterm Assignment grade: 100\n",
        "\n",
        "Enter Final Exam grade: 100\n",
        "Enter Hands-on Activity grade: 100\n",
        "Enter Final Quiz grade: 100\n",
        "Enter Final Assignment grade: 100\n",
        "\n",
        "Student Name:  Ampong\n",
        "Prelim Grade:  100.00\n",
        "Midterm Grade:  100.00\n",
        "Final Grade:  100.00\n",
        "UCC Number System Grade:  1.00\n",
        "====================\n",
        "Enter student name: Justmine\n",
        "\n",
        "Enter Prelim Exam grade: 90\n",
        "Enter Hands-on Activity grade: 90\n",
        "Enter Prelim Quiz grade: 90\n",
        "Enter Prelim Assignment grade: 90\n",
        "\n",
        "Enter Midterm Exam grade: 90\n",
        "Enter Hands-on Activity grade: 90\n",
        "Enter Midterm Quiz grade: 90\n",
        "Enter Midterm Assignment grade: 90\n",
        "\n",
        "Enter Final Exam grade: 90\n",
        "Enter Hands-on Activity grade: 90\n",
        "Enter Final Quiz grade: 90\n",
        "Enter Final Assignment grade: 90\n",
        "\n",
        "Student Name:  Justmine\n",
        "Prelim Grade:  90.00\n",
        "Midterm Grade:  90.00\n",
        "Final Grade:  90.00\n",
        "UCC Number System Grade:  1.75\n",
        "====================\n",
        "Enter student name: Jb\n",
        "\n",
        "Enter Prelim Exam grade: 80\n",
        "Enter Hands-on Activity grade: 80\n",
        "Enter Prelim Quiz grade: 80\n",
        "Enter Prelim Assignment grade: 80\n",
        "\n",
        "Enter Midterm Exam grade: 80\n",
        "Enter Hands-on Activity grade: 80\n",
        "Enter Midterm Quiz grade: 80\n",
        "Enter Midterm Assignment grade: 80\n",
        "\n",
        "Enter Final Exam grade: 80\n",
        "Enter Hands-on Activity grade: 80\n",
        "Enter Final Quiz grade: 80\n",
        "Enter Final Assignment grade: 80\n",
        "\n",
        "Student Name:  Jb\n",
        "Prelim Grade:  80.00\n",
        "Midterm Grade:  80.00\n",
        "Final Grade:  80.00\n",
        "UCC Number System Grade:  2.75\n",
        "====================\n",
        "```\n",
        "\n"
      ],
      "metadata": {
        "id": "uH58DopUeyqS"
      }
    },
    {
      "cell_type": "markdown",
      "source": [
        "\n",
        "**Questions**: (write your answers in blue font color and questions in black)\n",
        "\n",
        "1. Why is the Class Standing (CS) computed using 50% HOA, 30% Quiz, and 20% Assignment?\n",
        "<Font color=\"#096DAB\">These percentages show the importance of hands-on practice (50%) over quizzes (30%) and assignments (20%). Hands-on activities have the highest weight because they show actual skills.</Font>\n",
        "\n",
        "2. How does the program calculate the Final Grade?\n",
        "<Font color=\"#096DAB\">Final Grade uses 1/3 of Midterm Grade plus 2/3 of the combined Final Exam and Final CS. This means your previous grade (Midterm) affects your Final Grade less than your current performance.</font>\n"
      ],
      "metadata": {
        "id": "0CYvOMNPKNEq"
      }
    },
    {
      "cell_type": "markdown",
      "source": [
        "**Conclusion**:\n",
        "(conclusion must be based from the objective and answers whether you attained the objective/s or not and a brief explanation how you attained it)\n"
      ],
      "metadata": {
        "id": "f8oM9wqYKuO1"
      }
    },
    {
      "cell_type": "code",
      "source": [
        "\n",
        "PHOA = float(input(\"Enter Hands-on Activity grade: \"))\n",
        "PQUIZ = float(input(\"Enter Prelim Quiz grade: \"))\n",
        "PAS = float(input(\"Enter Prelim Assignment grade: \"))\n",
        "PCS = PHOA*.5 + PQUIZ*.3 + PAS*.2\n",
        "print(\"Prelim CS is: \", PCS)\n",
        "PEX = float(input(\"Enter Prelim Exam grade: \"))\n",
        "PG = PEX*.5 + PCS*.5\n",
        "print(\"Prelim Grade is: \", \"%.2f\" % PG)"
      ],
      "metadata": {
        "colab": {
          "base_uri": "https://localhost:8080/"
        },
        "id": "NHscsOjtxAtB",
        "outputId": "56dba8ef-add2-4d21-b475-61877407a966"
      },
      "execution_count": null,
      "outputs": [
        {
          "output_type": "stream",
          "name": "stdout",
          "text": [
            "Enter Hands-on Activity grade: 54\n",
            "Enter Prelim Quiz grade: 21\n",
            "Enter Prelim Assignment grade: 40\n",
            "Prelim CS is:  41.3\n",
            "Enter Prelim Exam grade: 90\n",
            "Prelim Grade is:  65.65\n"
          ]
        }
      ]
    },
    {
      "cell_type": "code",
      "source": [
        "for i in range(3):\n",
        "  #Student Information\n",
        "  student_name = input(\"Enter student name: \")\n",
        "  print()\n",
        "\n",
        "  # Prelim Data Input\n",
        "  PEX = float(input(\"Enter Prelim Exam grade: \"))\n",
        "  PHOA = float(input(\"Enter Hands-on Activity grade: \"))\n",
        "  PQUIZ = float(input(\"Enter Prelim Quiz grade: \"))\n",
        "  PAS = float(input(\"Enter Prelim Assignment grade: \"))\n",
        "  print()\n",
        "\n",
        "  #Calculate Prelim\n",
        "  PCS = PHOA*.5 + PQUIZ*.3 + PAS*.2\n",
        "  PG = PEX*.5 + PCS*.5\n",
        "\n",
        "  #Midterm Data Input\n",
        "  MEX = float(input(\"Enter Midterm Exam grade: \"))\n",
        "  MHOA = float(input(\"Enter Hands-on Activity grade: \"))\n",
        "  MQUIZ = float(input(\"Enter Midterm Quiz grade: \"))\n",
        "  MAS = float(input(\"Enter Midterm Assignment grade: \"))\n",
        "  print()\n",
        "\n",
        "  #Calculate Midterm\n",
        "  MCS = MHOA*.5 + MQUIZ*.3 + MAS*.2\n",
        "  MG = PG* 1/3 + 2/3* ((0.5* MEX + 0.5* MCS))\n",
        "\n",
        "  #Final Grade\n",
        "  FEX = float(input(\"Enter Final Exam grade: \"))\n",
        "  FHOA = float(input(\"Enter Hands-on Activity grade: \"))\n",
        "  FQUIZ = float(input(\"Enter Final Quiz grade: \"))\n",
        "  FAS = float(input(\"Enter Final Assignment grade: \"))\n",
        "  print()\n",
        "\n",
        "  #Calculate Final Grade\n",
        "  FCS = FHOA*.5 + FQUIZ*.3 + FAS*.2\n",
        "  FG = MG* 1/3 + 2/3* ((0.5* FEX + 0.5* FCS))\n",
        "\n",
        "  #Calculate GWA/GPA\n",
        "  print(\"Student Name: \", student_name)\n",
        "  print(\"Prelim Grade: \", \"%.2f\" % PG)\n",
        "  print(\"Midterm Grade: \", \"%.2f\" % MG)\n",
        "  print(\"Final Grade: \", \"%.2f\" % FG)\n",
        "\n",
        "  #Grading Conversion to UCC grading system\n",
        "  def UCC_grading_sytem(grade):\n",
        "    if 99 <= grade <= 100:\n",
        "      return 1.00\n",
        "    elif 96 <= grade <= 98:\n",
        "      return 1.25\n",
        "    elif 93 <= grade <= 95:\n",
        "      return 1.50\n",
        "    elif 90 <= grade <= 92:\n",
        "      return 1.75\n",
        "    elif 87 <= grade <= 89:\n",
        "      return 2.00\n",
        "    elif 84 <= grade <= 86:\n",
        "      return 2.25\n",
        "    elif 81 <= grade <= 83:\n",
        "      return 2.50\n",
        "    elif 78 <= grade <= 80:\n",
        "      return 2.75\n",
        "    elif 75 <= grade <= 77:\n",
        "      return 3.00\n",
        "    else:\n",
        "      return 5.00\n",
        "\n",
        "  print(\"UCC Number System Grade: \", \"%.2f\" % UCC_grading_sytem(FG))\n",
        "  print(\"=\" * 20)"
      ],
      "metadata": {
        "colab": {
          "base_uri": "https://localhost:8080/"
        },
        "id": "UiSyJYs1JgTl",
        "outputId": "8140ff8f-b0fc-4ada-83fc-c6c0b2794bf4"
      },
      "execution_count": null,
      "outputs": [
        {
          "output_type": "stream",
          "name": "stdout",
          "text": [
            "Enter student name: Ampong\n",
            "\n",
            "Enter Prelim Exam grade: 100\n",
            "Enter Hands-on Activity grade: 100\n",
            "Enter Prelim Quiz grade: 100\n",
            "Enter Prelim Assignment grade: 100\n",
            "\n",
            "Enter Midterm Exam grade: 100\n",
            "Enter Hands-on Activity grade: 100\n",
            "Enter Midterm Quiz grade: 100\n",
            "Enter Midterm Assignment grade: 100\n",
            "\n",
            "Enter Final Exam grade: 100\n",
            "Enter Hands-on Activity grade: 100\n",
            "Enter Final Quiz grade: 100\n",
            "Enter Final Assignment grade: 100\n",
            "\n",
            "Student Name:  Ampong\n",
            "Prelim Grade:  100.00\n",
            "Midterm Grade:  100.00\n",
            "Final Grade:  100.00\n",
            "UCC Number System Grade:  1.00\n",
            "====================\n",
            "Enter student name: Justmine\n",
            "\n",
            "Enter Prelim Exam grade: 90\n",
            "Enter Hands-on Activity grade: 90\n",
            "Enter Prelim Quiz grade: 90\n",
            "Enter Prelim Assignment grade: 90\n",
            "\n",
            "Enter Midterm Exam grade: 90\n",
            "Enter Hands-on Activity grade: 90\n",
            "Enter Midterm Quiz grade: 90\n",
            "Enter Midterm Assignment grade: 90\n",
            "\n",
            "Enter Final Exam grade: 90\n",
            "Enter Hands-on Activity grade: 90\n",
            "Enter Final Quiz grade: 90\n",
            "Enter Final Assignment grade: 90\n",
            "\n",
            "Student Name:  Justmine\n",
            "Prelim Grade:  90.00\n",
            "Midterm Grade:  90.00\n",
            "Final Grade:  90.00\n",
            "UCC Number System Grade:  1.75\n",
            "====================\n",
            "Enter student name: Jb\n",
            "\n",
            "Enter Prelim Exam grade: 80\n",
            "Enter Hands-on Activity grade: 80\n",
            "Enter Prelim Quiz grade: 80\n",
            "Enter Prelim Assignment grade: 80\n",
            "\n",
            "Enter Midterm Exam grade: 80\n",
            "Enter Hands-on Activity grade: 80\n",
            "Enter Midterm Quiz grade: 80\n",
            "Enter Midterm Assignment grade: 80\n",
            "\n",
            "Enter Final Exam grade: 80\n",
            "Enter Hands-on Activity grade: 80\n",
            "Enter Final Quiz grade: 80\n",
            "Enter Final Assignment grade: 80\n",
            "\n",
            "Student Name:  Jb\n",
            "Prelim Grade:  80.00\n",
            "Midterm Grade:  80.00\n",
            "Final Grade:  80.00\n",
            "UCC Number System Grade:  2.75\n",
            "====================\n"
          ]
        }
      ]
    }
  ],
  "metadata": {
    "kernelspec": {
      "display_name": "Python 3",
      "language": "python",
      "name": "python3"
    },
    "language_info": {
      "codemirror_mode": {
        "name": "ipython",
        "version": 3
      },
      "file_extension": ".py",
      "mimetype": "text/x-python",
      "name": "python",
      "nbconvert_exporter": "python",
      "pygments_lexer": "ipython3",
      "version": "3.7.3"
    },
    "colab": {
      "provenance": [],
      "include_colab_link": true
    }
  },
  "nbformat": 4,
  "nbformat_minor": 0
}