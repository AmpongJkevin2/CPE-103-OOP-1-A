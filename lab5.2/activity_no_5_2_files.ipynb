{
  "nbformat": 4,
  "nbformat_minor": 0,
  "metadata": {
    "colab": {
      "provenance": [],
      "authorship_tag": "ABX9TyOg82Pk6EQSq15I5cF88x9w",
      "include_colab_link": true
    },
    "kernelspec": {
      "name": "python3",
      "display_name": "Python 3"
    },
    "language_info": {
      "name": "python"
    }
  },
  "cells": [
    {
      "cell_type": "markdown",
      "metadata": {
        "id": "view-in-github",
        "colab_type": "text"
      },
      "source": [
        "<a href=\"https://colab.research.google.com/github/AmpongJkevin2/CPE-103-OOP-1-A/blob/main/acitivity_no_5_2_files.ipynb\" target=\"_parent\"><img src=\"https://colab.research.google.com/assets/colab-badge.svg\" alt=\"Open In Colab\"/></a>"
      ]
    },
    {
      "cell_type": "markdown",
      "source": [
        "# Opening files"
      ],
      "metadata": {
        "id": "ANvxmYEpJHGS"
      }
    },
    {
      "cell_type": "code",
      "execution_count": 11,
      "metadata": {
        "colab": {
          "base_uri": "https://localhost:8080/"
        },
        "id": "8C1tAN0-BAnf",
        "outputId": "c3835256-bbdf-4669-84b4-f18bf5509365"
      },
      "outputs": [
        {
          "output_type": "stream",
          "name": "stdout",
          "text": [
            "<_io.TextIOWrapper name='mbox.txt' mode='r' encoding='utf-8'>\n"
          ]
        }
      ],
      "source": [
        "fhand = open('mbox.txt')\n",
        "print(fhand)"
      ]
    },
    {
      "cell_type": "code",
      "source": [
        "fhand = open('stuff.txt')"
      ],
      "metadata": {
        "id": "J-gxYdbDI-zC"
      },
      "execution_count": 12,
      "outputs": []
    },
    {
      "cell_type": "markdown",
      "source": [
        "# Text files and lines"
      ],
      "metadata": {
        "id": "ir1MEOc6JWxR"
      }
    },
    {
      "cell_type": "code",
      "source": [
        "stuff = 'Hello\\nWorld!'\n",
        "stuff"
      ],
      "metadata": {
        "colab": {
          "base_uri": "https://localhost:8080/",
          "height": 36
        },
        "id": "InAu_DwVJwIU",
        "outputId": "dd583538-0dc2-40af-d325-949905022299"
      },
      "execution_count": 49,
      "outputs": [
        {
          "output_type": "execute_result",
          "data": {
            "text/plain": [
              "'Hello\\nWorld!'"
            ],
            "application/vnd.google.colaboratory.intrinsic+json": {
              "type": "string"
            }
          },
          "metadata": {},
          "execution_count": 49
        }
      ]
    },
    {
      "cell_type": "code",
      "source": [
        "print(stuff)"
      ],
      "metadata": {
        "colab": {
          "base_uri": "https://localhost:8080/"
        },
        "id": "WDi4N9w8Jw4J",
        "outputId": "49493c69-ca22-4c01-9b22-ef30a0e66ce3"
      },
      "execution_count": 50,
      "outputs": [
        {
          "output_type": "stream",
          "name": "stdout",
          "text": [
            "Hello\n",
            "World!\n"
          ]
        }
      ]
    },
    {
      "cell_type": "code",
      "source": [
        "stuff = 'X\\nY'\n",
        "print(stuff)"
      ],
      "metadata": {
        "colab": {
          "base_uri": "https://localhost:8080/"
        },
        "id": "PAzbcndlKYwC",
        "outputId": "112ef499-823c-4694-bce3-b8ec08426e83"
      },
      "execution_count": 51,
      "outputs": [
        {
          "output_type": "stream",
          "name": "stdout",
          "text": [
            "X\n",
            "Y\n"
          ]
        }
      ]
    },
    {
      "cell_type": "code",
      "source": [
        "len(stuff)"
      ],
      "metadata": {
        "colab": {
          "base_uri": "https://localhost:8080/"
        },
        "id": "7ollVCA5KmwY",
        "outputId": "ea5266c3-23f4-401a-823b-5dbbc74eb164"
      },
      "execution_count": 52,
      "outputs": [
        {
          "output_type": "execute_result",
          "data": {
            "text/plain": [
              "3"
            ]
          },
          "metadata": {},
          "execution_count": 52
        }
      ]
    },
    {
      "cell_type": "markdown",
      "source": [
        "# Reading files"
      ],
      "metadata": {
        "id": "SYnDWE1ZKp4p"
      }
    },
    {
      "cell_type": "code",
      "source": [
        "fhand = open('mbox-short.txt')\n",
        "count = 0\n",
        "for line in fhand:\n",
        "    count += 1\n",
        "print('Line count:', count)"
      ],
      "metadata": {
        "colab": {
          "base_uri": "https://localhost:8080/"
        },
        "id": "4qLKDTmXK1RK",
        "outputId": "51c1224c-3f66-4034-de49-f510a6eb8ffc"
      },
      "execution_count": 16,
      "outputs": [
        {
          "output_type": "stream",
          "name": "stdout",
          "text": [
            "Line count: 7\n"
          ]
        }
      ]
    },
    {
      "cell_type": "code",
      "source": [
        "fhand = open('mbox-short.txt')\n",
        "inp = fhand.read()\n",
        "print(len(inp))\n"
      ],
      "metadata": {
        "colab": {
          "base_uri": "https://localhost:8080/"
        },
        "id": "2mV3EaupDXyD",
        "outputId": "37b591e7-f33d-4df4-9a57-662f7f7fc886"
      },
      "execution_count": 17,
      "outputs": [
        {
          "output_type": "stream",
          "name": "stdout",
          "text": [
            "335\n"
          ]
        }
      ]
    },
    {
      "cell_type": "code",
      "source": [
        "print(inp[:20])"
      ],
      "metadata": {
        "colab": {
          "base_uri": "https://localhost:8080/"
        },
        "id": "FefA4ZCxLUUz",
        "outputId": "666a1b1a-c69b-4730-a2a4-e42b41f72c3d"
      },
      "execution_count": 18,
      "outputs": [
        {
          "output_type": "stream",
          "name": "stdout",
          "text": [
            "From stephen.marquar\n"
          ]
        }
      ]
    },
    {
      "cell_type": "code",
      "source": [
        "fhand = open('mbox-short.txt')\n",
        "print(len(fhand.read()))"
      ],
      "metadata": {
        "colab": {
          "base_uri": "https://localhost:8080/"
        },
        "id": "JPUhVIqrLfOK",
        "outputId": "c3e40cff-935a-4ae3-ebc5-ecc77602440a"
      },
      "execution_count": 19,
      "outputs": [
        {
          "output_type": "stream",
          "name": "stdout",
          "text": [
            "335\n"
          ]
        }
      ]
    },
    {
      "cell_type": "code",
      "source": [
        "print(len(fhand.read()))"
      ],
      "metadata": {
        "colab": {
          "base_uri": "https://localhost:8080/"
        },
        "id": "_VhNITr6L-Sr",
        "outputId": "11fd440a-32b1-455c-d807-e51ea03875f0"
      },
      "execution_count": 20,
      "outputs": [
        {
          "output_type": "stream",
          "name": "stdout",
          "text": [
            "0\n"
          ]
        }
      ]
    },
    {
      "cell_type": "markdown",
      "source": [
        "# Searching through a file"
      ],
      "metadata": {
        "id": "DNKCfDNSQqdT"
      }
    },
    {
      "cell_type": "code",
      "source": [
        "fhand = open('mbox-short.txt')\n",
        "for line in fhand:\n",
        "    if line.startswith('From:'):\n",
        "      print(line)"
      ],
      "metadata": {
        "colab": {
          "base_uri": "https://localhost:8080/"
        },
        "id": "PZY3Nw4JGkRj",
        "outputId": "00a84b7c-6f46-4634-b936-48325e3ae7bc"
      },
      "execution_count": 23,
      "outputs": [
        {
          "output_type": "stream",
          "name": "stdout",
          "text": [
            "From: stephen.marquard@uct.ac.za\n",
            "\n",
            "From: louis@media.berkeley.edu\n",
            "\n",
            "From: zqian@umich.edu\n",
            "\n",
            "From: rjlowe@iupui.edu\n"
          ]
        }
      ]
    },
    {
      "cell_type": "code",
      "source": [
        "fhand = open('mbox-short.txt')\n",
        "for line in fhand:\n",
        "    line = line.rstrip()\n",
        "    if line.startswith('From:'):\n",
        "      print(line)"
      ],
      "metadata": {
        "colab": {
          "base_uri": "https://localhost:8080/"
        },
        "id": "iRN5aZrNQUzs",
        "outputId": "298706ab-befc-4004-f0cb-b9031da593a6"
      },
      "execution_count": 24,
      "outputs": [
        {
          "output_type": "stream",
          "name": "stdout",
          "text": [
            "From: stephen.marquard@uct.ac.za\n",
            "From: louis@media.berkeley.edu\n",
            "From: zqian@umich.edu\n",
            "From: rjlowe@iupui.edu\n"
          ]
        }
      ]
    },
    {
      "cell_type": "code",
      "source": [
        "fhand = open('mbox-short.txt')\n",
        "for line in fhand:\n",
        "    line = line.rstrip()\n",
        "    if not line.startswith('From:'):\n",
        "      continue\n",
        "    print(line)\n"
      ],
      "metadata": {
        "colab": {
          "base_uri": "https://localhost:8080/"
        },
        "id": "NQLifL3ARPor",
        "outputId": "2313fb3e-9438-474d-eeb7-f093a014de7d"
      },
      "execution_count": 25,
      "outputs": [
        {
          "output_type": "stream",
          "name": "stdout",
          "text": [
            "From: stephen.marquard@uct.ac.za\n",
            "From: louis@media.berkeley.edu\n",
            "From: zqian@umich.edu\n",
            "From: rjlowe@iupui.edu\n"
          ]
        }
      ]
    },
    {
      "cell_type": "code",
      "source": [
        "fhand = open('mbox-short.txt')\n",
        "for line in fhand:\n",
        "    line = line.rstrip()\n",
        "    if line.find('@uct.ac.za') == -1: continue\n",
        "    print(line)"
      ],
      "metadata": {
        "colab": {
          "base_uri": "https://localhost:8080/"
        },
        "id": "ecVtxFANRp9V",
        "outputId": "ad962a8e-e8ca-4980-cfb9-d7288aa2520f"
      },
      "execution_count": 26,
      "outputs": [
        {
          "output_type": "stream",
          "name": "stdout",
          "text": [
            "From: stephen.marquard@uct.ac.za\n"
          ]
        }
      ]
    },
    {
      "cell_type": "markdown",
      "source": [
        "# Letting the user choose the file name"
      ],
      "metadata": {
        "id": "4STIP3n6R0fc"
      }
    },
    {
      "cell_type": "code",
      "source": [
        "fname = input('Enter the file name: ')\n",
        "fhand = open(fname)\n",
        "count = 0\n",
        "for line in fhand:\n",
        "    if line.startswith('Subject:'):\n",
        "      count += 1\n",
        "    print('There were', count, 'subject lines in', fname)\n"
      ],
      "metadata": {
        "colab": {
          "base_uri": "https://localhost:8080/"
        },
        "id": "2HVf_k8NR0m8",
        "outputId": "b0531b04-7578-418a-a5c8-b10ef3065b91"
      },
      "execution_count": 27,
      "outputs": [
        {
          "output_type": "stream",
          "name": "stdout",
          "text": [
            "Enter the file name: mbox.txt\n",
            "There were 0 subject lines in mbox.txt\n",
            "There were 0 subject lines in mbox.txt\n",
            "There were 0 subject lines in mbox.txt\n",
            "There were 0 subject lines in mbox.txt\n",
            "There were 0 subject lines in mbox.txt\n",
            "There were 1 subject lines in mbox.txt\n",
            "There were 1 subject lines in mbox.txt\n"
          ]
        }
      ]
    },
    {
      "cell_type": "markdown",
      "source": [
        "# Using try, except, and open"
      ],
      "metadata": {
        "id": "GR8l16cWT9Pd"
      }
    },
    {
      "cell_type": "code",
      "source": [
        "fname = input('enter the file name: ')\n",
        "try:\n",
        "  fhnad = open(fname)\n",
        "except:\n",
        "  print('File cannot be opened: ', fname)\n",
        "  exit()\n",
        "count =  0\n",
        "for line in fhand:\n",
        "  if line.startswith('Subject:'):\n",
        "    count += 1\n",
        "print('There were', count, 'subject lines in', fname)"
      ],
      "metadata": {
        "colab": {
          "base_uri": "https://localhost:8080/"
        },
        "id": "h_tVdX8iT9YN",
        "outputId": "aa0292bd-faa1-4344-a973-a108542024a4"
      },
      "execution_count": 28,
      "outputs": [
        {
          "output_type": "stream",
          "name": "stdout",
          "text": [
            "enter the file name: mbox.txt\n",
            "There were 0 subject lines in mbox.txt\n"
          ]
        }
      ]
    },
    {
      "cell_type": "markdown",
      "source": [
        "# Writing files"
      ],
      "metadata": {
        "id": "udpxIlJ4VK1s"
      }
    },
    {
      "cell_type": "code",
      "source": [
        "fout = open('output.txt', 'w')\n",
        "print(fout)"
      ],
      "metadata": {
        "colab": {
          "base_uri": "https://localhost:8080/"
        },
        "id": "cTq1YyYEU_nN",
        "outputId": "394d20d0-6083-41bb-b6d8-b1fc13a8ce86"
      },
      "execution_count": 1,
      "outputs": [
        {
          "output_type": "stream",
          "name": "stdout",
          "text": [
            "<_io.TextIOWrapper name='output.txt' mode='w' encoding='utf-8'>\n"
          ]
        }
      ]
    },
    {
      "cell_type": "code",
      "source": [
        "line1 = \"This here's the wattle, \\n\"\n",
        "fout.write(line1)"
      ],
      "metadata": {
        "colab": {
          "base_uri": "https://localhost:8080/"
        },
        "id": "XxxDVMdyVY7d",
        "outputId": "f86d9c4b-5ecc-4f17-aba7-ce6f3fbd6170"
      },
      "execution_count": 4,
      "outputs": [
        {
          "output_type": "execute_result",
          "data": {
            "text/plain": [
              "25"
            ]
          },
          "metadata": {},
          "execution_count": 4
        }
      ]
    },
    {
      "cell_type": "code",
      "source": [
        "lines2 = 'the emblem of our land.\\n'\n",
        "fout.write(lines2)"
      ],
      "metadata": {
        "colab": {
          "base_uri": "https://localhost:8080/"
        },
        "id": "Ty3Dnr1pVmol",
        "outputId": "bc06d87e-d650-4f82-db8c-5a4368d49b5b"
      },
      "execution_count": 5,
      "outputs": [
        {
          "output_type": "execute_result",
          "data": {
            "text/plain": [
              "24"
            ]
          },
          "metadata": {},
          "execution_count": 5
        }
      ]
    },
    {
      "cell_type": "code",
      "source": [
        "fout.close()"
      ],
      "metadata": {
        "id": "QZeZgdj8V9gs"
      },
      "execution_count": 10,
      "outputs": []
    },
    {
      "cell_type": "markdown",
      "source": [
        "# Supplementary Activity"
      ],
      "metadata": {
        "id": "wcntV9K5X_3O"
      }
    },
    {
      "cell_type": "code",
      "source": [
        "surname = \"SURNAME\"\n",
        "filename_s1 = f\"{surname}.txt\"\n",
        "analysis_text = \"\"\"Line 1: This is my analysis of file operations.\n",
        "Line 2: Writing to files requires opening in 'w' or 'a' mode.\n",
        "Line 3: Reading can be done line-by-line or all at once.\n",
        "Line 4: It's crucial to close files, especially after writing.\n",
        "Line 5: Error handling with try-except is important for robustness.\"\"\"\n",
        "\n",
        "# code #1: Write analysis to SURNAME.txt\n",
        "print(f\"\\ncode #1: Writing analysis to {filename_s1}\")\n",
        "try:\n",
        "    with open(filename_s1, 'w') as f_write:\n",
        "        f_write.write(analysis_text)\n",
        "    print(f\"# Successfully wrote analysis to {filename_s1}\")\n",
        "except Exception as e:\n",
        "    print(f\"# ERROR writing to {filename_s1}: {e}\")\n",
        "\n",
        "for line in open(filename_s1, 'r'):\n",
        "  print(line)"
      ],
      "metadata": {
        "colab": {
          "base_uri": "https://localhost:8080/"
        },
        "id": "IXRghI0DfSRY",
        "outputId": "bda663a7-9cd3-49c5-cb2c-a4fed00d0152"
      },
      "execution_count": 48,
      "outputs": [
        {
          "output_type": "stream",
          "name": "stdout",
          "text": [
            "\n",
            "code #1: Writing analysis to SURNAME.txt\n",
            "# Successfully wrote analysis to SURNAME.txt\n",
            "Line 1: This is my analysis of file operations.\n",
            "\n",
            "Line 2: Writing to files requires opening in 'w' or 'a' mode.\n",
            "\n",
            "Line 3: Reading can be done line-by-line or all at once.\n",
            "\n",
            "Line 4: It's crucial to close files, especially after writing.\n",
            "\n",
            "Line 5: Error handling with try-except is important for robustness.\n"
          ]
        }
      ]
    },
    {
      "cell_type": "code",
      "source": [
        "import os\n",
        "\n",
        "# --- CREATE ---\n",
        "print(\"\\n# CREATE (or ensure file exists)\")\n",
        "try:\n",
        "    with open(filename_s1, 'a') as f_create:\n",
        "        # Optionally add a line to confirm creation/append\n",
        "        f_create.write(\"\\nCRUD: File accessed/created.\\n\")\n",
        "    print(f\"# {filename_s1} exists or was created.\")\n",
        "except Exception as e:\n",
        "    print(f\"# ERROR during CREATE/access: {e}\")\n",
        "\n",
        "# --- READ ---\n",
        "print(\"\\n# READ (Display current content)\")\n",
        "try:\n",
        "    with open(filename_s1, 'r') as f_read_crud:\n",
        "        print(f\"# Current content of {filename_s1}:\")\n",
        "        print(f_read_crud.read())\n",
        "except FileNotFoundError:\n",
        "    print(f\"# ERROR: {filename_s1} not found for READ.\")\n",
        "except Exception as e:\n",
        "    print(f\"# ERROR during READ: {e}\")\n",
        "\n",
        "# --- UPDATE ---\n",
        "print(\"\\n# UPDATE (Append a new line)\")\n",
        "try:\n",
        "    with open(filename_s1, 'a') as f_update: # 'a' for append\n",
        "        f_update.write(\"CRUD: This line was appended (Updated).\\n\")\n",
        "    print(f\"# Appended update line to {filename_s1}\")\n",
        "    # Read again to show update\n",
        "    print(\"# Content after UPDATE:\")\n",
        "    with open(filename_s1, 'r') as f_read_after_update:\n",
        "        print(f_read_after_update.read())\n",
        "except FileNotFoundError:\n",
        "     print(f\"# ERROR: {filename_s1} not found for UPDATE.\")\n",
        "except Exception as e:\n",
        "    print(f\"# ERROR during UPDATE: {e}\")\n",
        "\n",
        "# --- DELETE ---\n",
        "print(\"\\n# DELETE (Remove the file)\")\n",
        "try:\n",
        "    os.remove(filename_s1)\n",
        "    print(f\"# Successfully deleted {filename_s1}\")\n",
        "    # Verify deletion\n",
        "    print(\"# Verifying deletion:\")\n",
        "    with open(filename_s1, 'r') as f_verify:\n",
        "         print(\"# File still exists?\")\n",
        "except FileNotFoundError:\n",
        "    print(f\"# Verified: {filename_s1} is deleted.\")\n",
        "except Exception as e:\n",
        "    print(f\"# ERROR during DELETE: {e}\")\n"
      ],
      "metadata": {
        "colab": {
          "base_uri": "https://localhost:8080/"
        },
        "id": "JNYRuok0e5BZ",
        "outputId": "4202e0e8-c238-43a0-c3fd-78c383a674be"
      },
      "execution_count": 47,
      "outputs": [
        {
          "output_type": "stream",
          "name": "stdout",
          "text": [
            "\n",
            "# CREATE (or ensure file exists)\n",
            "# SURNAME.txt exists or was created.\n",
            "\n",
            "# READ (Display current content)\n",
            "# Current content of SURNAME.txt:\n",
            "\n",
            "CRUD: File accessed/created.\n",
            "\n",
            "\n",
            "# UPDATE (Append a new line)\n",
            "# Appended update line to SURNAME.txt\n",
            "# Content after UPDATE:\n",
            "\n",
            "CRUD: File accessed/created.\n",
            "CRUD: This line was appended (Updated).\n",
            "\n",
            "\n",
            "# DELETE (Remove the file)\n",
            "# Successfully deleted SURNAME.txt\n",
            "# Verifying deletion:\n",
            "# Verified: SURNAME.txt is deleted.\n"
          ]
        }
      ]
    }
  ]
}