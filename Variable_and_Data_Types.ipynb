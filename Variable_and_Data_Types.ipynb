{
  "nbformat": 4,
  "nbformat_minor": 0,
  "metadata": {
    "colab": {
      "provenance": [],
      "authorship_tag": "ABX9TyMFKWmuW1dKv/dy2UbxJNbv",
      "include_colab_link": true
    },
    "kernelspec": {
      "name": "python3",
      "display_name": "Python 3"
    },
    "language_info": {
      "name": "python"
    }
  },
  "cells": [
    {
      "cell_type": "markdown",
      "metadata": {
        "id": "view-in-github",
        "colab_type": "text"
      },
      "source": [
        "<a href=\"https://colab.research.google.com/github/AmpongJkevin2/CPE-103-OOP-1-A/blob/main/Variable_and_Data_Types.ipynb\" target=\"_parent\"><img src=\"https://colab.research.google.com/assets/colab-badge.svg\" alt=\"Open In Colab\"/></a>"
      ]
    },
    {
      "cell_type": "markdown",
      "source": [
        "# **Variable and Data Types**"
      ],
      "metadata": {
        "id": "yPL6IRGQ6GqE"
      }
    },
    {
      "cell_type": "markdown",
      "source": [
        "**Numbers**"
      ],
      "metadata": {
        "id": "DY-31mP76aKl"
      }
    },
    {
      "cell_type": "code",
      "source": [
        "varNUm = 123\n",
        "pi = 3.12159"
      ],
      "metadata": {
        "id": "192P4p9u6FlM"
      },
      "execution_count": 236,
      "outputs": []
    },
    {
      "cell_type": "markdown",
      "source": [
        "**Strings**"
      ],
      "metadata": {
        "id": "wYe_EY5D6k-D"
      }
    },
    {
      "cell_type": "code",
      "source": [
        "varString = \"Hello World\"\n",
        "varText = 'This is a string'"
      ],
      "metadata": {
        "id": "9wGw-bCw6lEx"
      },
      "execution_count": 237,
      "outputs": []
    },
    {
      "cell_type": "markdown",
      "source": [
        "**Lists**"
      ],
      "metadata": {
        "id": "r4FWCVR-6lMP"
      }
    },
    {
      "cell_type": "code",
      "source": [
        "varList = [\"abc\", 123]"
      ],
      "metadata": {
        "id": "a6dR5Waz6lUU"
      },
      "execution_count": 238,
      "outputs": []
    },
    {
      "cell_type": "markdown",
      "source": [
        "**Tuples**"
      ],
      "metadata": {
        "id": "i2R5iAJS6lcL"
      }
    },
    {
      "cell_type": "code",
      "source": [
        "varTuple = {'abc', 123, \"HELLO\"}"
      ],
      "metadata": {
        "id": "AIoYNQyw6lkV"
      },
      "execution_count": 239,
      "outputs": []
    },
    {
      "cell_type": "markdown",
      "source": [
        "**Dictionaries**"
      ],
      "metadata": {
        "id": "3kb-LNWZ7IHk"
      }
    },
    {
      "cell_type": "code",
      "source": [
        "var = 3\n",
        "varDict = {'first':1, '2':'2nd', 3:var}\n",
        "\n",
        "varDict = {}\n",
        "varDict['first'] = 1\n",
        "varDict['2'] = '2nd'\n",
        "varDict[3] = var"
      ],
      "metadata": {
        "id": "wBlaAtQV7IP-"
      },
      "execution_count": 240,
      "outputs": []
    },
    {
      "cell_type": "markdown",
      "source": [
        "# **Arithmetic**\n"
      ],
      "metadata": {
        "id": "zQQBJLP20I8C"
      }
    },
    {
      "cell_type": "code",
      "source": [],
      "metadata": {
        "id": "kiiqTX1M6Y71"
      },
      "execution_count": 240,
      "outputs": []
    },
    {
      "cell_type": "markdown",
      "source": [
        "**Addition**"
      ],
      "metadata": {
        "id": "tKkJC53i2O3s"
      }
    },
    {
      "cell_type": "code",
      "execution_count": 241,
      "metadata": {
        "colab": {
          "base_uri": "https://localhost:8080/"
        },
        "id": "Aa83QKprztA7",
        "outputId": "10973e9d-283a-45e5-82fd-432986b7ca73"
      },
      "outputs": [
        {
          "output_type": "stream",
          "name": "stdout",
          "text": [
            "8\n"
          ]
        }
      ],
      "source": [
        "a = 5 + 3\n",
        "print(a)"
      ]
    },
    {
      "cell_type": "markdown",
      "source": [
        "**Subtraction**"
      ],
      "metadata": {
        "id": "rkYKjIFE2fgU"
      }
    },
    {
      "cell_type": "code",
      "source": [
        "a = 5 - 3\n",
        "print(a)"
      ],
      "metadata": {
        "colab": {
          "base_uri": "https://localhost:8080/"
        },
        "id": "Z9-eSizy2OeT",
        "outputId": "06b10bec-017c-497a-d056-20cef3d09238"
      },
      "execution_count": 242,
      "outputs": [
        {
          "output_type": "stream",
          "name": "stdout",
          "text": [
            "2\n"
          ]
        }
      ]
    },
    {
      "cell_type": "markdown",
      "source": [
        "**Multiplication**"
      ],
      "metadata": {
        "id": "6lP8qJq82jDb"
      }
    },
    {
      "cell_type": "code",
      "source": [
        "a = 5 * 3\n",
        "print(a)"
      ],
      "metadata": {
        "colab": {
          "base_uri": "https://localhost:8080/"
        },
        "id": "7zGxVBxP2qG7",
        "outputId": "6b956628-e071-4064-d7a4-7a0eff7944a4"
      },
      "execution_count": 243,
      "outputs": [
        {
          "output_type": "stream",
          "name": "stdout",
          "text": [
            "15\n"
          ]
        }
      ]
    },
    {
      "cell_type": "markdown",
      "source": [
        "**Exponent**"
      ],
      "metadata": {
        "id": "BffKDUlr2qsL"
      }
    },
    {
      "cell_type": "code",
      "source": [
        "a = 5 ** 3\n",
        "print(a)"
      ],
      "metadata": {
        "colab": {
          "base_uri": "https://localhost:8080/"
        },
        "id": "k-cSg6qx2wLj",
        "outputId": "a2fa3819-b074-4610-efa3-fa5601ee5b84"
      },
      "execution_count": 244,
      "outputs": [
        {
          "output_type": "stream",
          "name": "stdout",
          "text": [
            "125\n"
          ]
        }
      ]
    },
    {
      "cell_type": "markdown",
      "source": [
        "**Division**"
      ],
      "metadata": {
        "id": "9ugl8NKh2wdb"
      }
    },
    {
      "cell_type": "code",
      "source": [
        "a = 5 / 3\n",
        "print(a)\n",
        "a = 5 // 3\n",
        "print(a)"
      ],
      "metadata": {
        "colab": {
          "base_uri": "https://localhost:8080/"
        },
        "id": "qIgGcWKF2wyj",
        "outputId": "07bcefaa-8959-4d32-f9b0-10b458c6389d"
      },
      "execution_count": 245,
      "outputs": [
        {
          "output_type": "stream",
          "name": "stdout",
          "text": [
            "1.6666666666666667\n",
            "1\n"
          ]
        }
      ]
    },
    {
      "cell_type": "markdown",
      "source": [
        "**Increment/decrement**"
      ],
      "metadata": {
        "id": "ot9FrnQn3r87"
      }
    },
    {
      "cell_type": "code",
      "source": [
        "a = 5\n",
        "a += 1\n",
        "print(a)"
      ],
      "metadata": {
        "colab": {
          "base_uri": "https://localhost:8080/"
        },
        "id": "yv4cdvdP3sE7",
        "outputId": "4539c11a-1837-4e09-90aa-4eefa4b7d0d8"
      },
      "execution_count": 246,
      "outputs": [
        {
          "output_type": "stream",
          "name": "stdout",
          "text": [
            "6\n"
          ]
        }
      ]
    },
    {
      "cell_type": "markdown",
      "source": [
        "**Decrement**"
      ],
      "metadata": {
        "id": "76TA2gyV4I7b"
      }
    },
    {
      "cell_type": "code",
      "source": [
        "a = 5\n",
        "a -= 1\n",
        "print(a)"
      ],
      "metadata": {
        "colab": {
          "base_uri": "https://localhost:8080/"
        },
        "id": "Ag4p3ah04JC7",
        "outputId": "2f0052e4-e367-4816-cc6a-50c21b6aeab0"
      },
      "execution_count": 247,
      "outputs": [
        {
          "output_type": "stream",
          "name": "stdout",
          "text": [
            "4\n"
          ]
        }
      ]
    },
    {
      "cell_type": "markdown",
      "source": [
        "**String Concatenation**"
      ],
      "metadata": {
        "id": "DlN0G0Wf4JJz"
      }
    },
    {
      "cell_type": "code",
      "source": [
        "a = 'Hello' + 'World'\n",
        "print(a)"
      ],
      "metadata": {
        "colab": {
          "base_uri": "https://localhost:8080/"
        },
        "id": "S8qwjIv-4JQ0",
        "outputId": "0bf05fe3-bd67-4cbf-e4fa-1ac0b1e760e4"
      },
      "execution_count": 248,
      "outputs": [
        {
          "output_type": "stream",
          "name": "stdout",
          "text": [
            "HelloWorld\n"
          ]
        }
      ]
    },
    {
      "cell_type": "markdown",
      "source": [
        "**Complex Expressions**"
      ],
      "metadata": {
        "id": "p3LWeInx4JYb"
      }
    },
    {
      "cell_type": "code",
      "source": [
        "a = 3 + 5 - 6 * 2 / 4"
      ],
      "metadata": {
        "id": "-NV7FLof4JfT"
      },
      "execution_count": 249,
      "outputs": []
    },
    {
      "cell_type": "markdown",
      "source": [
        "## **Control Statements and data structures**"
      ],
      "metadata": {
        "id": "2MztnKfN4J2L"
      }
    },
    {
      "cell_type": "markdown",
      "source": [
        "**Boolean Conditions**"
      ],
      "metadata": {
        "id": "fPs5docC4Job"
      }
    },
    {
      "cell_type": "code",
      "source": [
        "x = True\n",
        "\n",
        "if x:\n",
        "    print(\"x is True\")\n",
        "else:\n",
        "    print(\"x is False\")"
      ],
      "metadata": {
        "colab": {
          "base_uri": "https://localhost:8080/"
        },
        "id": "xcUwRMjB4Jwj",
        "outputId": "f731b12f-5167-4395-f729-44cf0f1bfae7"
      },
      "execution_count": 250,
      "outputs": [
        {
          "output_type": "stream",
          "name": "stdout",
          "text": [
            "x is True\n"
          ]
        }
      ]
    },
    {
      "cell_type": "markdown",
      "source": [
        "**Numerical Coditions**"
      ],
      "metadata": {
        "id": "0WUnvh0F4_ME"
      }
    },
    {
      "cell_type": "code",
      "source": [
        "x = 10\n",
        "\n",
        "if x == '10':\n",
        "  print(\"var x is a string\")\n",
        "elif x == 10:\n",
        "  print(\"var x is an integer\")\n",
        "else:\n",
        "  print(\"var x is none of the above\")"
      ],
      "metadata": {
        "colab": {
          "base_uri": "https://localhost:8080/"
        },
        "id": "gCyM08t74J8c",
        "outputId": "96986f7e-e1e4-4b26-f2a7-c171aff1ea52"
      },
      "execution_count": 251,
      "outputs": [
        {
          "output_type": "stream",
          "name": "stdout",
          "text": [
            "var x is an integer\n"
          ]
        }
      ]
    },
    {
      "cell_type": "markdown",
      "source": [
        "# **Loops**"
      ],
      "metadata": {
        "id": "fdiqLOIW4KDz"
      }
    },
    {
      "cell_type": "markdown",
      "source": [
        "For Loops"
      ],
      "metadata": {
        "id": "8CzuXWZV7yiN"
      }
    },
    {
      "cell_type": "code",
      "source": [
        "for var in range(0, 5, 2):\n",
        "    print(var)"
      ],
      "metadata": {
        "colab": {
          "base_uri": "https://localhost:8080/"
        },
        "id": "urpDdS8k4KK0",
        "outputId": "e9d169df-abc3-47fc-ed83-f9084fd80302"
      },
      "execution_count": 252,
      "outputs": [
        {
          "output_type": "stream",
          "name": "stdout",
          "text": [
            "0\n",
            "2\n",
            "4\n"
          ]
        }
      ]
    },
    {
      "cell_type": "markdown",
      "source": [
        "While Loops"
      ],
      "metadata": {
        "id": "WMP9mclK70bs"
      }
    },
    {
      "cell_type": "code",
      "source": [
        "var = 0\n",
        "while var < 5:\n",
        "    print(var)\n",
        "    var += 2"
      ],
      "metadata": {
        "colab": {
          "base_uri": "https://localhost:8080/"
        },
        "id": "kLJliOQS71kk",
        "outputId": "42b89252-a0d3-40c9-f4ee-1f492454c491"
      },
      "execution_count": 253,
      "outputs": [
        {
          "output_type": "stream",
          "name": "stdout",
          "text": [
            "0\n",
            "2\n",
            "4\n"
          ]
        }
      ]
    },
    {
      "cell_type": "markdown",
      "source": [
        "Nested Loops"
      ],
      "metadata": {
        "id": "gb_p_QME71ds"
      }
    },
    {
      "cell_type": "code",
      "source": [
        "x = 0\n",
        "while x < 5:\n",
        "    for y in range(0, x):\n",
        "        print(y, end='')\n",
        "    x += 1\n",
        "    print()"
      ],
      "metadata": {
        "colab": {
          "base_uri": "https://localhost:8080/"
        },
        "id": "-hSlKjGo73wz",
        "outputId": "3ba4a61d-bf71-4982-e66d-2ac0de4f7bef"
      },
      "execution_count": 254,
      "outputs": [
        {
          "output_type": "stream",
          "name": "stdout",
          "text": [
            "\n",
            "0\n",
            "01\n",
            "012\n",
            "0123\n"
          ]
        }
      ]
    },
    {
      "cell_type": "markdown",
      "source": [
        "# **Functions**"
      ],
      "metadata": {
        "id": "6dDTaAH_712m"
      }
    },
    {
      "cell_type": "markdown",
      "source": [
        "**Functions**"
      ],
      "metadata": {
        "id": "qR3q_w1f8h2s"
      }
    },
    {
      "cell_type": "code",
      "source": [
        "def remaider(n, m):\n",
        "  while True:\n",
        "    if n - m < 0:\n",
        "      return n\n",
        "    else:\n",
        "      n = n - m\n",
        "\n",
        "remaider(10, 4)"
      ],
      "metadata": {
        "colab": {
          "base_uri": "https://localhost:8080/"
        },
        "id": "1HglBLP_71_k",
        "outputId": "e180cbfa-e688-4808-808d-ee6d2e07bad4"
      },
      "execution_count": 255,
      "outputs": [
        {
          "output_type": "execute_result",
          "data": {
            "text/plain": [
              "2"
            ]
          },
          "metadata": {},
          "execution_count": 255
        }
      ]
    },
    {
      "cell_type": "markdown",
      "source": [
        "# **List**"
      ],
      "metadata": {
        "id": "6lkduQjd8h_U"
      }
    },
    {
      "cell_type": "markdown",
      "source": [
        "lists"
      ],
      "metadata": {
        "id": "Qq1GfmgY91ya"
      }
    },
    {
      "cell_type": "code",
      "source": [
        "pi = 3.14159\n",
        "varList = [1, 2, 'A', 'B', 'Hello', pi]\n",
        "print(varList[0])"
      ],
      "metadata": {
        "colab": {
          "base_uri": "https://localhost:8080/"
        },
        "id": "FBvFs0TH7yLG",
        "outputId": "7ad1512f-9379-4b89-ac10-d054bbda1acf"
      },
      "execution_count": 256,
      "outputs": [
        {
          "output_type": "stream",
          "name": "stdout",
          "text": [
            "1\n"
          ]
        }
      ]
    },
    {
      "cell_type": "code",
      "source": [
        "print(varList[4])"
      ],
      "metadata": {
        "colab": {
          "base_uri": "https://localhost:8080/"
        },
        "id": "8cP3MojJADz8",
        "outputId": "cc94b0ab-cfbc-4328-f1fb-ec0a48f7a253"
      },
      "execution_count": 257,
      "outputs": [
        {
          "output_type": "stream",
          "name": "stdout",
          "text": [
            "Hello\n"
          ]
        }
      ]
    },
    {
      "cell_type": "code",
      "source": [
        "varList.append('World')\n",
        "print(varList[6])"
      ],
      "metadata": {
        "colab": {
          "base_uri": "https://localhost:8080/"
        },
        "id": "BD6Qq06oAFxs",
        "outputId": "5bc02eee-5149-44b3-90b7-4dbf51f3843e"
      },
      "execution_count": 258,
      "outputs": [
        {
          "output_type": "stream",
          "name": "stdout",
          "text": [
            "World\n"
          ]
        }
      ]
    },
    {
      "cell_type": "code",
      "source": [
        "len(varList)"
      ],
      "metadata": {
        "colab": {
          "base_uri": "https://localhost:8080/"
        },
        "id": "ePftR3zlAfYA",
        "outputId": "a750bc9f-eb9b-4053-d1dd-82aae0a14a13"
      },
      "execution_count": 259,
      "outputs": [
        {
          "output_type": "execute_result",
          "data": {
            "text/plain": [
              "7"
            ]
          },
          "metadata": {},
          "execution_count": 259
        }
      ]
    },
    {
      "cell_type": "code",
      "source": [
        "print(varList[5])"
      ],
      "metadata": {
        "colab": {
          "base_uri": "https://localhost:8080/"
        },
        "id": "YOVVYYNaAlU8",
        "outputId": "80978348-fb53-4389-a8be-c3ac9f94cb43"
      },
      "execution_count": 260,
      "outputs": [
        {
          "output_type": "stream",
          "name": "stdout",
          "text": [
            "3.14159\n"
          ]
        }
      ]
    },
    {
      "cell_type": "code",
      "source": [
        "varList.remove(pi)\n",
        "print(varList[5])"
      ],
      "metadata": {
        "colab": {
          "base_uri": "https://localhost:8080/"
        },
        "id": "F6-WJ8NtAsDd",
        "outputId": "aecdf3f1-9874-4775-bc3c-722af63d2845"
      },
      "execution_count": 261,
      "outputs": [
        {
          "output_type": "stream",
          "name": "stdout",
          "text": [
            "World\n"
          ]
        }
      ]
    },
    {
      "cell_type": "markdown",
      "source": [
        "**Dictionaries**"
      ],
      "metadata": {
        "id": "uA8awKq2BPx1"
      }
    },
    {
      "cell_type": "code",
      "source": [
        "var = \"Hello World\"\n",
        "varDict = {'first':1, 2:'2nd', '3':var, 4 : ['lista', 'listb']}\n",
        "print(varDict['first'])"
      ],
      "metadata": {
        "colab": {
          "base_uri": "https://localhost:8080/"
        },
        "id": "_OJEnmPnBQJ8",
        "outputId": "7ac1c461-88da-4378-f9c4-81115bd33d54"
      },
      "execution_count": 262,
      "outputs": [
        {
          "output_type": "stream",
          "name": "stdout",
          "text": [
            "1\n"
          ]
        }
      ]
    },
    {
      "cell_type": "code",
      "source": [
        "print(varDict[2])"
      ],
      "metadata": {
        "colab": {
          "base_uri": "https://localhost:8080/"
        },
        "id": "PyPYTBLvCJ6W",
        "outputId": "90416537-d36a-4933-f576-c3d4c8c5a581"
      },
      "execution_count": 263,
      "outputs": [
        {
          "output_type": "stream",
          "name": "stdout",
          "text": [
            "2nd\n"
          ]
        }
      ]
    },
    {
      "cell_type": "code",
      "source": [
        "print(varDict['3'])"
      ],
      "metadata": {
        "colab": {
          "base_uri": "https://localhost:8080/"
        },
        "id": "c7n9Zv2SCJ-W",
        "outputId": "ccc4e81d-0d98-40d1-a6d3-e2722f3cff4c"
      },
      "execution_count": 264,
      "outputs": [
        {
          "output_type": "stream",
          "name": "stdout",
          "text": [
            "Hello World\n"
          ]
        }
      ]
    },
    {
      "cell_type": "code",
      "source": [
        "print(varDict[4])"
      ],
      "metadata": {
        "colab": {
          "base_uri": "https://localhost:8080/"
        },
        "id": "KxSICrgECKBe",
        "outputId": "d2bad952-128a-4684-d950-9a7d744d1086"
      },
      "execution_count": 265,
      "outputs": [
        {
          "output_type": "stream",
          "name": "stdout",
          "text": [
            "['lista', 'listb']\n"
          ]
        }
      ]
    },
    {
      "cell_type": "code",
      "source": [
        "print(varDict[4][1])"
      ],
      "metadata": {
        "colab": {
          "base_uri": "https://localhost:8080/"
        },
        "id": "FNvPKkVMCKOG",
        "outputId": "29eb988b-2b6a-4003-8c76-20143c521800"
      },
      "execution_count": 266,
      "outputs": [
        {
          "output_type": "stream",
          "name": "stdout",
          "text": [
            "listb\n"
          ]
        }
      ]
    },
    {
      "cell_type": "code",
      "source": [
        "len(varDict)"
      ],
      "metadata": {
        "colab": {
          "base_uri": "https://localhost:8080/"
        },
        "id": "SPRHxTrrCKkW",
        "outputId": "2ef65f63-6bdc-4af3-9e68-35835ac4d104"
      },
      "execution_count": 267,
      "outputs": [
        {
          "output_type": "execute_result",
          "data": {
            "text/plain": [
              "4"
            ]
          },
          "metadata": {},
          "execution_count": 267
        }
      ]
    },
    {
      "cell_type": "markdown",
      "source": [
        "**List Generators and Comprehension**"
      ],
      "metadata": {
        "id": "Zgw6Z7SoEHLF"
      }
    },
    {
      "cell_type": "code",
      "source": [
        "def gen_num_up_to(n):\n",
        "  num = 1\n",
        "  while num <= n:\n",
        "    yield num\n",
        "    num += 1"
      ],
      "metadata": {
        "id": "15p4rodaEHlH"
      },
      "execution_count": 268,
      "outputs": []
    },
    {
      "cell_type": "code",
      "source": [
        "gen_num_up_to(5)"
      ],
      "metadata": {
        "colab": {
          "base_uri": "https://localhost:8080/"
        },
        "id": "T59aZRHKEIMd",
        "outputId": "88eefa22-249c-4667-eaa3-c40d152c13a3"
      },
      "execution_count": 269,
      "outputs": [
        {
          "output_type": "execute_result",
          "data": {
            "text/plain": [
              "<generator object gen_num_up_to at 0x7e7fcc20f100>"
            ]
          },
          "metadata": {},
          "execution_count": 269
        }
      ]
    },
    {
      "cell_type": "code",
      "source": [
        "varList = gen_num_up_to(5)\n",
        "print([var for var in varList])"
      ],
      "metadata": {
        "colab": {
          "base_uri": "https://localhost:8080/"
        },
        "id": "r_2ONN-HEIRf",
        "outputId": "530bda03-9424-44ea-b832-523d89480cea"
      },
      "execution_count": 270,
      "outputs": [
        {
          "output_type": "stream",
          "name": "stdout",
          "text": [
            "[1, 2, 3, 4, 5]\n"
          ]
        }
      ]
    },
    {
      "cell_type": "code",
      "source": [
        "def gen_num_up_to(n):\n",
        "  num = 0\n",
        "  while num < n:\n",
        "    yield num\n",
        "    num += 2\n",
        "\n",
        "  varList = gen_num_up_to(5)\n",
        "  print([var for var in varList])"
      ],
      "metadata": {
        "id": "_64qbl62EIWW"
      },
      "execution_count": 271,
      "outputs": []
    },
    {
      "cell_type": "code",
      "source": [
        "varList = range(0, 5, 2)\n",
        "print([var for var in varList])"
      ],
      "metadata": {
        "colab": {
          "base_uri": "https://localhost:8080/"
        },
        "id": "YQQi7bxPEKLt",
        "outputId": "816c497f-6d6b-4f3b-b081-455022f81103"
      },
      "execution_count": 272,
      "outputs": [
        {
          "output_type": "stream",
          "name": "stdout",
          "text": [
            "[0, 2, 4]\n"
          ]
        }
      ]
    },
    {
      "cell_type": "markdown",
      "source": [
        "**Slicing**"
      ],
      "metadata": {
        "id": "PA0gz5yuDKJN"
      }
    },
    {
      "cell_type": "code",
      "source": [
        "varList = [1,2,3,4,5,6,7,8,9,10]\n",
        "print(varList[:5])"
      ],
      "metadata": {
        "colab": {
          "base_uri": "https://localhost:8080/"
        },
        "id": "xdAFUB8JDKlF",
        "outputId": "065e0376-0dcd-4986-9ad5-5c38099dfe4d"
      },
      "execution_count": 273,
      "outputs": [
        {
          "output_type": "stream",
          "name": "stdout",
          "text": [
            "[1, 2, 3, 4, 5]\n"
          ]
        }
      ]
    },
    {
      "cell_type": "code",
      "source": [
        "print(varList[5:])"
      ],
      "metadata": {
        "colab": {
          "base_uri": "https://localhost:8080/"
        },
        "id": "6vDmVJqGDfcg",
        "outputId": "a60d23b0-a0ef-40a1-d22d-ee6cdaf79861"
      },
      "execution_count": 274,
      "outputs": [
        {
          "output_type": "stream",
          "name": "stdout",
          "text": [
            "[6, 7, 8, 9, 10]\n"
          ]
        }
      ]
    },
    {
      "cell_type": "code",
      "source": [
        "print(varList[:-2])"
      ],
      "metadata": {
        "colab": {
          "base_uri": "https://localhost:8080/"
        },
        "id": "oVa_AevWDfZe",
        "outputId": "dbd181f1-cec3-42dc-cfcc-958373bdfa4f"
      },
      "execution_count": 275,
      "outputs": [
        {
          "output_type": "stream",
          "name": "stdout",
          "text": [
            "[1, 2, 3, 4, 5, 6, 7, 8]\n"
          ]
        }
      ]
    },
    {
      "cell_type": "code",
      "source": [
        "print(varList[-2:])"
      ],
      "metadata": {
        "colab": {
          "base_uri": "https://localhost:8080/"
        },
        "id": "6P3njQiLDffO",
        "outputId": "4523abbc-9a3e-4500-b8ef-a3ca4555e373"
      },
      "execution_count": 276,
      "outputs": [
        {
          "output_type": "stream",
          "name": "stdout",
          "text": [
            "[9, 10]\n"
          ]
        }
      ]
    },
    {
      "cell_type": "code",
      "source": [
        "print(varList[2:-2])"
      ],
      "metadata": {
        "colab": {
          "base_uri": "https://localhost:8080/"
        },
        "id": "Y-Q6Ig1TDfjJ",
        "outputId": "85a1cae9-6b32-45b9-ff8d-2f2f6027ea25"
      },
      "execution_count": 277,
      "outputs": [
        {
          "output_type": "stream",
          "name": "stdout",
          "text": [
            "[3, 4, 5, 6, 7, 8]\n"
          ]
        }
      ]
    },
    {
      "cell_type": "code",
      "source": [
        "print(varList[2:8:2])"
      ],
      "metadata": {
        "colab": {
          "base_uri": "https://localhost:8080/"
        },
        "id": "yl5j46G3D-LX",
        "outputId": "113677a9-084b-4418-e0e0-741941ad763b"
      },
      "execution_count": 278,
      "outputs": [
        {
          "output_type": "stream",
          "name": "stdout",
          "text": [
            "[3, 5, 7]\n"
          ]
        }
      ]
    }
  ]
}