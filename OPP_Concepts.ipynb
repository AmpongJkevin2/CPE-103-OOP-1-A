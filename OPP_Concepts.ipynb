{
  "nbformat": 4,
  "nbformat_minor": 0,
  "metadata": {
    "colab": {
      "provenance": [],
      "authorship_tag": "ABX9TyOAc7mYW0hi5ZMjxCtl+R2z",
      "include_colab_link": true
    },
    "kernelspec": {
      "name": "python3",
      "display_name": "Python 3"
    },
    "language_info": {
      "name": "python"
    }
  },
  "cells": [
    {
      "cell_type": "markdown",
      "metadata": {
        "id": "view-in-github",
        "colab_type": "text"
      },
      "source": [
        "<a href=\"https://colab.research.google.com/github/AmpongJkevin2/CPE-103-OOP-1-A/blob/main/OPP_Concepts.ipynb\" target=\"_parent\"><img src=\"https://colab.research.google.com/assets/colab-badge.svg\" alt=\"Open In Colab\"/></a>"
      ]
    },
    {
      "cell_type": "markdown",
      "source": [
        "Class constructor"
      ],
      "metadata": {
        "id": "TpQnbjoj79m3"
      }
    },
    {
      "cell_type": "code",
      "source": [
        "class Car:\n",
        "  cat_type = \"Sedan\"\n",
        "\n",
        "  def __init__(self, name, mileage):\n",
        "    self.name = name\n",
        "    self.color = mileage"
      ],
      "metadata": {
        "id": "RkVX4Ut4A9D2"
      },
      "execution_count": null,
      "outputs": []
    },
    {
      "cell_type": "markdown",
      "source": [
        "Class Method"
      ],
      "metadata": {
        "id": "ewsXZuL0A5fX"
      }
    },
    {
      "cell_type": "code",
      "source": [
        "class Car:\n",
        "  cat_type = \"Sedan\"\n",
        "\n",
        "  def __init__(self, name, mileage):\n",
        "    self.name = name\n",
        "    self.mileage = mileage\n",
        "\n",
        "  def description(self):\n",
        "    return f\"the  {self.name} car gives the mileage of {self.mileage}km/l\"\n",
        "\n",
        "  def max_speed(self, speed):\n",
        "    return f\"The {self.name} runs at the maximum speed of {self.speed}km/hr\"\n"
      ],
      "metadata": {
        "id": "k3LwHDW18GPe"
      },
      "execution_count": 22,
      "outputs": []
    },
    {
      "cell_type": "markdown",
      "source": [
        "Multiple objects in the one class"
      ],
      "metadata": {
        "id": "YTANeas8_Xio"
      }
    },
    {
      "cell_type": "code",
      "source": [
        "class Car:\n",
        "  cat_type = \"Sedan\"\n",
        "\n",
        "  def __init__(self, name, mileage):\n",
        "    self.name = name\n",
        "    self.mileage = mileage\n",
        "\n",
        "  def description(self):\n",
        "    return f\"the  {self.name} car gives the mileage of {self.mileage}km/l\"\n",
        "\n",
        "  def max_speed(self, speed):\n",
        "    return f\"The {self.name} runs at the maximum speed of {self.speed}km/hr\"\n",
        "\n",
        "class BMW(Car):\n",
        "  pass\n",
        "\n",
        "class Audi(Car):\n",
        "  def Audi_decs(self):\n",
        "    return \"This is the description method of class Audi\"\n",
        "\n",
        "obj1 = BMW(\"BMW 7-series\", 39.53)\n",
        "print(obj1.description())\n",
        "\n",
        "obj2 = Audi(\"Audi A8 L\", 14)\n",
        "print(obj2.description())"
      ],
      "metadata": {
        "colab": {
          "base_uri": "https://localhost:8080/"
        },
        "outputId": "8d78d069-735c-4d64-f91f-d617bfdf9b61",
        "id": "Qg-vY6ZXEWj_"
      },
      "execution_count": 23,
      "outputs": [
        {
          "output_type": "stream",
          "name": "stdout",
          "text": [
            "the  BMW 7-series car gives the mileage of 39.53km/l\n",
            "the  Audi A8 L car gives the mileage of 14km/l\n"
          ]
        }
      ]
    },
    {
      "cell_type": "markdown",
      "source": [
        "Apply the OOP concept like class constructor, methods, inheritance to describe the sides of shapes (e.g. Triangle, Square, Rectangle)"
      ],
      "metadata": {
        "id": "dPWyYUWwEcDf"
      }
    },
    {
      "cell_type": "code",
      "source": [
        "class Shapes:\n",
        "  def __init__(self, name,  sides):\n",
        "    self.name = name\n",
        "    self.sides = sides\n",
        "\n",
        "  def description(self):\n",
        "    return f\"This {self.name} has {self.sides} sides\"\n",
        "\n",
        "class Square(Shapes):\n",
        "  pass\n",
        "\n",
        "class Triangle(Shapes):\n",
        "  pass\n",
        "\n",
        "class Rectangle(Shapes):\n",
        "  pass\n",
        "\n",
        "square = Square(\"Square\", 4)\n",
        "triangle = Triangle(\"Triangle\", 3)\n",
        "rectangle = Rectangle(\"Rectangle\", 4)\n",
        "\n",
        "print(square.description())\n",
        "print(triangle.description())\n",
        "print(rectangle.description())"
      ],
      "metadata": {
        "colab": {
          "base_uri": "https://localhost:8080/"
        },
        "id": "XlNI0elJFafo",
        "outputId": "3b9ff3d5-b743-4914-8d43-05cf546aa423"
      },
      "execution_count": 29,
      "outputs": [
        {
          "output_type": "stream",
          "name": "stdout",
          "text": [
            "This Square has 4 sides\n",
            "This Triangle has 3 sides\n",
            "This Rectangle has 4 sides\n"
          ]
        }
      ]
    }
  ]
}