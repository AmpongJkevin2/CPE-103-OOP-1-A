{
  "nbformat": 4,
  "nbformat_minor": 0,
  "metadata": {
    "colab": {
      "provenance": [],
      "authorship_tag": "ABX9TyMKgOCVFoWP/ZNCc3ygkRrw",
      "include_colab_link": true
    },
    "kernelspec": {
      "name": "python3",
      "display_name": "Python 3"
    },
    "language_info": {
      "name": "python"
    }
  },
  "cells": [
    {
      "cell_type": "markdown",
      "metadata": {
        "id": "view-in-github",
        "colab_type": "text"
      },
      "source": [
        "<a href=\"https://colab.research.google.com/github/AmpongJkevin2/CPE-103-OOP-1-A/blob/main/python_fudemental.ipynb\" target=\"_parent\"><img src=\"https://colab.research.google.com/assets/colab-badge.svg\" alt=\"Open In Colab\"/></a>"
      ]
    },
    {
      "cell_type": "markdown",
      "source": [
        "python indentation"
      ],
      "metadata": {
        "id": "B32o9T0yFzHc"
      }
    },
    {
      "cell_type": "code",
      "source": [
        "if 5 > 2 :\n",
        "  print(\"Five is greater than two!\")"
      ],
      "metadata": {
        "colab": {
          "base_uri": "https://localhost:8080/"
        },
        "id": "nlsrjajAGA5c",
        "outputId": "fd7b39a0-b011-4b32-a2ca-8e4d4c7953af"
      },
      "execution_count": 1,
      "outputs": [
        {
          "output_type": "stream",
          "name": "stdout",
          "text": [
            "Five is greater than two!\n"
          ]
        }
      ]
    },
    {
      "cell_type": "markdown",
      "source": [
        "Python Comment"
      ],
      "metadata": {
        "id": "dHbIgcA0Iz2D"
      }
    },
    {
      "cell_type": "code",
      "source": [
        "# This is comment\n",
        "print(\"Hello, World\")"
      ],
      "metadata": {
        "colab": {
          "base_uri": "https://localhost:8080/"
        },
        "id": "dTo_lbhwJC4N",
        "outputId": "1f7bdc06-c983-4661-e8aa-6b0140bd7b2b"
      },
      "execution_count": 2,
      "outputs": [
        {
          "output_type": "stream",
          "name": "stdout",
          "text": [
            "Hello, World\n"
          ]
        }
      ]
    },
    {
      "cell_type": "markdown",
      "source": [
        "Python variable"
      ],
      "metadata": {
        "id": "gqgjgibhJ-Jk"
      }
    },
    {
      "cell_type": "code",
      "source": [
        "z = 1\n",
        "a, b=0, -1\n",
        "c = \"Sally\"\n",
        "print(a)\n",
        "print(b)\n",
        "print(c)"
      ],
      "metadata": {
        "colab": {
          "base_uri": "https://localhost:8080/"
        },
        "id": "AK2TmqcgJ_J9",
        "outputId": "53e2b7af-1300-422b-d453-e1a65adecc82"
      },
      "execution_count": 7,
      "outputs": [
        {
          "output_type": "stream",
          "name": "stdout",
          "text": [
            "0\n",
            "-1\n",
            "Sally\n"
          ]
        }
      ]
    },
    {
      "cell_type": "markdown",
      "source": [
        "Python Casting"
      ],
      "metadata": {
        "id": "LrlrVAxIMAq1"
      }
    },
    {
      "cell_type": "code",
      "source": [
        "b = \"Sally\" #This is type of string\n",
        "b = int(4)\n",
        "b = float(4)\n",
        "print(b)"
      ],
      "metadata": {
        "colab": {
          "base_uri": "https://localhost:8080/"
        },
        "id": "MmAukIYrMGMl",
        "outputId": "f382554e-7925-4d04-9cd5-fa54dc350287"
      },
      "execution_count": 9,
      "outputs": [
        {
          "output_type": "stream",
          "name": "stdout",
          "text": [
            "4.0\n"
          ]
        }
      ]
    },
    {
      "cell_type": "markdown",
      "source": [
        "python Type() funtion"
      ],
      "metadata": {
        "id": "EdrZwXGaNNsV"
      }
    },
    {
      "cell_type": "code",
      "source": [
        "x = 5\n",
        "y = \"john\"\n",
        "print(type(x))\n",
        "print(type(y))"
      ],
      "metadata": {
        "colab": {
          "base_uri": "https://localhost:8080/"
        },
        "id": "LX6gA-CeNU7l",
        "outputId": "ddf4096d-8e37-4b8e-8d5f-d63beae9c630"
      },
      "execution_count": 10,
      "outputs": [
        {
          "output_type": "stream",
          "name": "stdout",
          "text": [
            "<class 'int'>\n",
            "<class 'str'>\n"
          ]
        }
      ]
    },
    {
      "cell_type": "markdown",
      "source": [
        "\"Double Quote\" and 'Single Quote'"
      ],
      "metadata": {
        "id": "3GnF-qP6N7UX"
      }
    },
    {
      "cell_type": "code",
      "source": [
        "y = \"john\"\n",
        "y = 'john'\n",
        "print(y)"
      ],
      "metadata": {
        "colab": {
          "base_uri": "https://localhost:8080/"
        },
        "id": "7V-qin6wOHbF",
        "outputId": "bed295e0-e992-461a-8d37-4b92775a6c86"
      },
      "execution_count": 11,
      "outputs": [
        {
          "output_type": "stream",
          "name": "stdout",
          "text": [
            "john\n"
          ]
        }
      ]
    },
    {
      "cell_type": "markdown",
      "source": [
        "Case Sentive"
      ],
      "metadata": {
        "id": "5gWApAYdOwjU"
      }
    },
    {
      "cell_type": "code",
      "source": [
        "a = 4\n",
        "A = \"Sally\"\n",
        "print(a)\n",
        "print(A)"
      ],
      "metadata": {
        "colab": {
          "base_uri": "https://localhost:8080/"
        },
        "id": "7xaRjGn_OwuN",
        "outputId": "5be76fcf-7f0d-4666-afa3-15360909854e"
      },
      "execution_count": 12,
      "outputs": [
        {
          "output_type": "stream",
          "name": "stdout",
          "text": [
            "4\n",
            "Sally\n"
          ]
        }
      ]
    },
    {
      "cell_type": "markdown",
      "source": [
        "Multiple Variable"
      ],
      "metadata": {
        "id": "_KcnoirtPHEl"
      }
    },
    {
      "cell_type": "code",
      "source": [
        "x, y, z = \"One\", \"Two\", \"Three\"\n",
        "print(x)\n",
        "print(y)\n",
        "print(z)"
      ],
      "metadata": {
        "colab": {
          "base_uri": "https://localhost:8080/"
        },
        "id": "QGvs-p2rPHOc",
        "outputId": "996f85f1-21d5-42b6-b8bc-3c7f339ec126"
      },
      "execution_count": 13,
      "outputs": [
        {
          "output_type": "stream",
          "name": "stdout",
          "text": [
            "One\n",
            "Two\n",
            "Three\n"
          ]
        }
      ]
    },
    {
      "cell_type": "markdown",
      "source": [
        "Single value to Multiple Variable"
      ],
      "metadata": {
        "id": "3pV9_roRPfgF"
      }
    },
    {
      "cell_type": "code",
      "source": [
        "x = y = z = \"four\"\n",
        "print(x)\n",
        "print(y)\n",
        "print(z)"
      ],
      "metadata": {
        "colab": {
          "base_uri": "https://localhost:8080/"
        },
        "id": "Tz9K6SK3Pfq0",
        "outputId": "c88b5881-7542-4dd1-a337-db35c234f912"
      },
      "execution_count": 15,
      "outputs": [
        {
          "output_type": "stream",
          "name": "stdout",
          "text": [
            "four\n",
            "four\n",
            "four\n"
          ]
        }
      ]
    },
    {
      "cell_type": "markdown",
      "source": [
        "Output Variable"
      ],
      "metadata": {
        "id": "yBDNUSXfQIvu"
      }
    },
    {
      "cell_type": "code",
      "source": [
        "x = \"enjoying\"\n",
        "print(\"Python programming is \" + x)"
      ],
      "metadata": {
        "colab": {
          "base_uri": "https://localhost:8080/"
        },
        "id": "A-2W_PUjQI38",
        "outputId": "5122a752-8eb7-4c86-e6c0-bb00bae6c5bd"
      },
      "execution_count": 17,
      "outputs": [
        {
          "output_type": "stream",
          "name": "stdout",
          "text": [
            "Python programming is enjoying\n"
          ]
        }
      ]
    },
    {
      "cell_type": "markdown",
      "source": [
        "Arithmetic Operation"
      ],
      "metadata": {
        "id": "aV01OtBCQtVc"
      }
    },
    {
      "cell_type": "code",
      "source": [
        "x = 10\n",
        "y = 3\n",
        "print(x**y)\n",
        "print(x/y)\n",
        "print(x//y)"
      ],
      "metadata": {
        "colab": {
          "base_uri": "https://localhost:8080/"
        },
        "id": "x5O9MwlMQtcd",
        "outputId": "fd086452-5678-40ee-bbaa-318e69351486"
      },
      "execution_count": 19,
      "outputs": [
        {
          "output_type": "stream",
          "name": "stdout",
          "text": [
            "1000\n",
            "3.3333333333333335\n",
            "3\n"
          ]
        }
      ]
    },
    {
      "cell_type": "markdown",
      "source": [
        "Assigment operators"
      ],
      "metadata": {
        "id": "OSRgofLlSPb9"
      }
    },
    {
      "cell_type": "code",
      "source": [
        "x = 6\n",
        "y = 9\n",
        "x *= y\n",
        "print(x)"
      ],
      "metadata": {
        "colab": {
          "base_uri": "https://localhost:8080/"
        },
        "id": "4T39toudSPgM",
        "outputId": "65d0a821-b87a-4022-9407-9596ee583a68"
      },
      "execution_count": 23,
      "outputs": [
        {
          "output_type": "stream",
          "name": "stdout",
          "text": [
            "54\n"
          ]
        }
      ]
    },
    {
      "cell_type": "markdown",
      "source": [
        "Logical operation"
      ],
      "metadata": {
        "id": "bv_Z_5tpTC-F"
      }
    },
    {
      "cell_type": "code",
      "source": [
        "x = 5\n",
        "y = 2\n",
        "x > y"
      ],
      "metadata": {
        "colab": {
          "base_uri": "https://localhost:8080/"
        },
        "id": "DQVGQgWkTDHd",
        "outputId": "914b0398-7d88-4074-b3a6-1f7f15cf5829"
      },
      "execution_count": 27,
      "outputs": [
        {
          "output_type": "execute_result",
          "data": {
            "text/plain": [
              "True"
            ]
          },
          "metadata": {},
          "execution_count": 27
        }
      ]
    },
    {
      "cell_type": "markdown",
      "source": [
        "Bitwise operators"
      ],
      "metadata": {
        "id": "8lfFeZkIUBG1"
      }
    },
    {
      "cell_type": "code",
      "source": [
        "#decimal to binary\n",
        "#10 = 1010\n",
        "\n",
        "x = 10\n",
        "x>>3\n",
        "print(x)"
      ],
      "metadata": {
        "colab": {
          "base_uri": "https://localhost:8080/"
        },
        "id": "yWUy-1CPUBPO",
        "outputId": "df4e1875-367b-43c4-87a8-53c58465c39c"
      },
      "execution_count": 41,
      "outputs": [
        {
          "output_type": "stream",
          "name": "stdout",
          "text": [
            "10\n"
          ]
        }
      ]
    },
    {
      "cell_type": "markdown",
      "source": [
        "Application 1"
      ],
      "metadata": {
        "id": "Dd-PZdM0YSEO"
      }
    },
    {
      "cell_type": "code",
      "source": [
        "#Application 1\n",
        "\n",
        "#Rectangle\n",
        "print(\"Calculate the Area of rectangle\")\n",
        "width = float(input(\"Enter width: \"))\n",
        "Height = float(input(\"Enter Height: \"))\n",
        "area = width * Height\n",
        "print(\"Area of square: \", area)\n",
        "\n",
        "#Triangle\n",
        "print(\"Calculate the area of triangle\")\n",
        "base = float(input(\"Enter base: \"))\n",
        "vertical_height = float(input(\"Enter vertical Height: \"))\n",
        "area = 1/2 * base * vertical_height\n",
        "print(\"Area of Triangle: \", area)\n",
        "\n",
        "#Square\n",
        "print(\"Calculate the area of square\")\n",
        "length_side = float(input(\"Enter length of side: \"))\n",
        "area = length_side**2\n",
        "print(\"Area of square: \", area)"
      ],
      "metadata": {
        "colab": {
          "base_uri": "https://localhost:8080/"
        },
        "id": "c-L9LmCtYaQF",
        "outputId": "a20be27f-ce3f-4c49-f966-08b5c15f3345"
      },
      "execution_count": 62,
      "outputs": [
        {
          "output_type": "stream",
          "name": "stdout",
          "text": [
            "Calculate the Area of rectangle\n",
            "Enter width: 2\n",
            "Enter Height: 5\n",
            "Area of square:  10.0\n",
            "Calculate the area of triangle\n",
            "Enter base: 5\n",
            "Enter vertical Height: 3\n",
            "Area of Triangle:  7.5\n",
            "Calculate the area of square\n",
            "Enter length of side: 3\n",
            "Area of square:  9.0\n"
          ]
        }
      ]
    },
    {
      "cell_type": "code",
      "source": [],
      "metadata": {
        "id": "htRSABVYbdBm"
      },
      "execution_count": null,
      "outputs": []
    }
  ]
}