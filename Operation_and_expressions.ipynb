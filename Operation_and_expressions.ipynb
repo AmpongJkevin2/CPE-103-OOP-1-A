{
  "nbformat": 4,
  "nbformat_minor": 0,
  "metadata": {
    "colab": {
      "provenance": [],
      "authorship_tag": "ABX9TyPaxZkxdaVNE2WVg8tjCejd",
      "include_colab_link": true
    },
    "kernelspec": {
      "name": "python3",
      "display_name": "Python 3"
    },
    "language_info": {
      "name": "python"
    }
  },
  "cells": [
    {
      "cell_type": "markdown",
      "metadata": {
        "id": "view-in-github",
        "colab_type": "text"
      },
      "source": [
        "<a href=\"https://colab.research.google.com/github/AmpongJkevin2/CPE-103-OOP-1-A/blob/main/Operation_and_expressions.ipynb\" target=\"_parent\"><img src=\"https://colab.research.google.com/assets/colab-badge.svg\" alt=\"Open In Colab\"/></a>"
      ]
    },
    {
      "cell_type": "markdown",
      "source": [
        "# Boolean Operators"
      ],
      "metadata": {
        "id": "ucahVhWRyB0u"
      }
    },
    {
      "cell_type": "code",
      "execution_count": null,
      "metadata": {
        "colab": {
          "base_uri": "https://localhost:8080/"
        },
        "id": "zR-cb3uix3j0",
        "outputId": "d6e14d18-dc64-4555-9200-d0ef9436032a"
      },
      "outputs": [
        {
          "output_type": "stream",
          "name": "stdout",
          "text": [
            "True\n",
            "False\n",
            "False\n"
          ]
        }
      ],
      "source": [
        "print(10 > 9)\n",
        "print(10 == 9)\n",
        "print(10 < 9)"
      ]
    },
    {
      "cell_type": "markdown",
      "source": [
        "# Bool() Funtion\n",
        "\n"
      ],
      "metadata": {
        "id": "6FzhqWpmylgP"
      }
    },
    {
      "cell_type": "code",
      "source": [
        "print(bool(False))\n",
        "print(bool(None))\n",
        "print(bool(0))\n",
        "print(bool(1))\n",
        "print(bool(\"\"))\n",
        "print(bool(()))\n",
        "print(bool([]))\n",
        "print(bool({}))\n"
      ],
      "metadata": {
        "colab": {
          "base_uri": "https://localhost:8080/"
        },
        "id": "2oeCgiaDylof",
        "outputId": "5dcc36dd-49d4-4b19-e808-804edd1e95cc"
      },
      "execution_count": null,
      "outputs": [
        {
          "output_type": "stream",
          "name": "stdout",
          "text": [
            "False\n",
            "False\n",
            "False\n",
            "True\n",
            "False\n",
            "False\n",
            "False\n",
            "False\n"
          ]
        }
      ]
    },
    {
      "cell_type": "markdown",
      "source": [
        "# Function can return bool"
      ],
      "metadata": {
        "id": "iQApawZizo7w"
      }
    },
    {
      "cell_type": "code",
      "source": [
        "def myFunction() :\n",
        "  return True\n",
        "\n",
        "print(myFunction())\n",
        "\n",
        "\n",
        "if myFunction():\n",
        "  print(\"Yes!\")\n",
        "else:\n",
        "  print(\"NO!\")\n",
        "\n",
        "\n",
        "print(10 > 9)\n",
        "\n",
        "a = 6\n",
        "b = 7\n",
        "\n",
        "print(a == b)\n",
        "print(a != a)"
      ],
      "metadata": {
        "colab": {
          "base_uri": "https://localhost:8080/"
        },
        "id": "H-Yw0LbBzpE-",
        "outputId": "6230f621-1690-4392-8d2d-43c361f66d39"
      },
      "execution_count": null,
      "outputs": [
        {
          "output_type": "stream",
          "name": "stdout",
          "text": [
            "True\n",
            "Yes!\n",
            "True\n",
            "False\n",
            "False\n"
          ]
        }
      ]
    },
    {
      "cell_type": "markdown",
      "source": [
        "Python operators"
      ],
      "metadata": {
        "id": "qMIaQC8n0uCA"
      }
    },
    {
      "cell_type": "code",
      "source": [
        "print(10 + 1)\n",
        "print(10 - 5)\n",
        "print(10 * 5)\n",
        "print(10 / 5)\n",
        "print(10 % 3)\n",
        "print(10 / 3)\n",
        "print(10 ** 2)"
      ],
      "metadata": {
        "colab": {
          "base_uri": "https://localhost:8080/"
        },
        "id": "OuHPAi-E0uJP",
        "outputId": "888d9e26-faa5-4640-aa63-233d1f2346f7"
      },
      "execution_count": null,
      "outputs": [
        {
          "output_type": "stream",
          "name": "stdout",
          "text": [
            "11\n",
            "5\n",
            "50\n",
            "2.0\n",
            "1\n",
            "3.3333333333333335\n",
            "100\n"
          ]
        }
      ]
    },
    {
      "cell_type": "markdown",
      "source": [
        "Python Bitwise Operators"
      ],
      "metadata": {
        "id": "HKeoOilq2HwQ"
      }
    },
    {
      "cell_type": "code",
      "source": [
        "a = 60\n",
        "b = 13\n",
        "print(a & b)\n",
        "print(a | b)\n",
        "print(a ^ b)\n",
        "print(~a)\n",
        "print(a << 2)\n",
        "print(a >> 2)"
      ],
      "metadata": {
        "colab": {
          "base_uri": "https://localhost:8080/"
        },
        "id": "c59ztMON2ahO",
        "outputId": "aba89fdd-bd2a-40aa-81b6-8ea57f254ada"
      },
      "execution_count": 65,
      "outputs": [
        {
          "output_type": "stream",
          "name": "stdout",
          "text": [
            "12\n",
            "61\n",
            "49\n",
            "-61\n",
            "240\n",
            "15\n"
          ]
        }
      ]
    },
    {
      "cell_type": "markdown",
      "source": [
        "# Assignment Operators"
      ],
      "metadata": {
        "id": "1e7vpoZW-nFA"
      }
    },
    {
      "cell_type": "code",
      "source": [
        "x = 5\n",
        "\n",
        "x += 5\n",
        "print(x)\n",
        "x -= 5\n",
        "print(x)\n",
        "x *= 5\n",
        "print(x)\n",
        "x /= 5\n",
        "print(x)\n",
        "x %= 5\n",
        "print(x)"
      ],
      "metadata": {
        "colab": {
          "base_uri": "https://localhost:8080/"
        },
        "id": "Nb8Wn6vk-nPH",
        "outputId": "cdd3bbfc-4450-4858-f22f-612355b6422b"
      },
      "execution_count": 31,
      "outputs": [
        {
          "output_type": "stream",
          "name": "stdout",
          "text": [
            "10\n",
            "5\n",
            "25\n",
            "5.0\n",
            "0.0\n"
          ]
        }
      ]
    },
    {
      "cell_type": "markdown",
      "source": [
        "# Identity Operators"
      ],
      "metadata": {
        "id": "3dakiS2eHAnf"
      }
    },
    {
      "cell_type": "code",
      "source": [
        "x = -1\n",
        "y = 2\n",
        "print(x is y)\n",
        "print(x is not y)"
      ],
      "metadata": {
        "colab": {
          "base_uri": "https://localhost:8080/"
        },
        "id": "e1k4HzVhHAv9",
        "outputId": "a53cb0a4-205d-4afc-c5fa-20388a28c3d2"
      },
      "execution_count": 29,
      "outputs": [
        {
          "output_type": "stream",
          "name": "stdout",
          "text": [
            "False\n",
            "True\n"
          ]
        }
      ]
    },
    {
      "cell_type": "markdown",
      "source": [
        "# Conditional Statement"
      ],
      "metadata": {
        "id": "5Hzus99wHkGR"
      }
    },
    {
      "cell_type": "code",
      "source": [
        "a = 12\n",
        "b = 100\n",
        "\n",
        "if b > a:\n",
        "  print(\"b is greater than a\")"
      ],
      "metadata": {
        "colab": {
          "base_uri": "https://localhost:8080/"
        },
        "id": "QB5TmnmkHkPt",
        "outputId": "df1a3150-5366-438f-80a2-fde89c2f5a61"
      },
      "execution_count": 30,
      "outputs": [
        {
          "output_type": "stream",
          "name": "stdout",
          "text": [
            "b is greater than a\n"
          ]
        }
      ]
    },
    {
      "cell_type": "markdown",
      "source": [
        "# Elif Statements"
      ],
      "metadata": {
        "id": "7hawMV-dMH53"
      }
    },
    {
      "cell_type": "code",
      "source": [
        "a = 12\n",
        "b = 12\n",
        "if b > a:\n",
        "  print(\"b is greater than a\")\n",
        "elif a == b:\n",
        "  print(\"a and b are equal\")"
      ],
      "metadata": {
        "colab": {
          "base_uri": "https://localhost:8080/"
        },
        "id": "2jagy65iMIA2",
        "outputId": "a1a5a711-d25f-43ca-f3ad-85bf2b5506d7"
      },
      "execution_count": 34,
      "outputs": [
        {
          "output_type": "stream",
          "name": "stdout",
          "text": [
            "a and b are equal\n"
          ]
        }
      ]
    },
    {
      "cell_type": "markdown",
      "source": [
        "# Else Statements"
      ],
      "metadata": {
        "id": "Vh6yp_byNCtg"
      }
    },
    {
      "cell_type": "code",
      "source": [
        "a = 200\n",
        "b = 33\n",
        "if b > a:\n",
        "  print(\"b is greater than a\")\n",
        "elif a == b:\n",
        "  print(\"a and b are equal\")\n",
        "else:\n",
        "  print(\"a is greater than b\")"
      ],
      "metadata": {
        "colab": {
          "base_uri": "https://localhost:8080/"
        },
        "id": "Csng5ZzbNC1u",
        "outputId": "14d10832-c8b5-46a0-fea6-f3270b7d1081"
      },
      "execution_count": 36,
      "outputs": [
        {
          "output_type": "stream",
          "name": "stdout",
          "text": [
            "a is greater than b\n"
          ]
        }
      ]
    },
    {
      "cell_type": "markdown",
      "source": [
        "# Short Hand If..Else Statement"
      ],
      "metadata": {
        "id": "WdDpR_CrNufW"
      }
    },
    {
      "cell_type": "code",
      "source": [
        "a = 2\n",
        "b = 330\n",
        "print(\"A\") if a > b else print(\"B\")"
      ],
      "metadata": {
        "colab": {
          "base_uri": "https://localhost:8080/"
        },
        "id": "2mu47NJLNulP",
        "outputId": "47ef9bf5-c674-4902-9cf3-5517582211e4"
      },
      "execution_count": 37,
      "outputs": [
        {
          "output_type": "stream",
          "name": "stdout",
          "text": [
            "B\n"
          ]
        }
      ]
    },
    {
      "cell_type": "markdown",
      "source": [
        "# And-Both conditions are true"
      ],
      "metadata": {
        "id": "kMhDUo-vN_ov"
      }
    },
    {
      "cell_type": "code",
      "source": [
        "a = 200\n",
        "b = 33\n",
        "c = 500\n",
        "if a > b and c > a:\n",
        "  print(\"Both conditions are True\")"
      ],
      "metadata": {
        "colab": {
          "base_uri": "https://localhost:8080/"
        },
        "id": "aYIARmITN_wW",
        "outputId": "7e514096-c0c6-4203-9bb5-0941f30a3f56"
      },
      "execution_count": 38,
      "outputs": [
        {
          "output_type": "stream",
          "name": "stdout",
          "text": [
            "Both conditions are True\n"
          ]
        }
      ]
    },
    {
      "cell_type": "markdown",
      "source": [
        "# Nested if"
      ],
      "metadata": {
        "id": "TyFmZ2F-PoOA"
      }
    },
    {
      "cell_type": "code",
      "source": [
        "x = 41\n",
        "\n",
        "if x > 10:\n",
        "  print(\"Above ten\")\n",
        "  if x > 20:\n",
        "    print(\"above twenty\")\n",
        "    if x > 30:\n",
        "      print(\"above thirty\")\n",
        "      if x > 40:\n",
        "        print(\"above fourty\")\n",
        "        if x > 50:\n",
        "          print(\"above fifly\")\n",
        "        else:\n",
        "          print(\"below fifty\")"
      ],
      "metadata": {
        "colab": {
          "base_uri": "https://localhost:8080/"
        },
        "id": "BtXHv1ihPoUg",
        "outputId": "b49b1b8b-0c74-4e13-9825-e9c1d34e1a9f"
      },
      "execution_count": 44,
      "outputs": [
        {
          "output_type": "stream",
          "name": "stdout",
          "text": [
            "Above ten\n",
            "above twenty\n",
            "above thirty\n",
            "above fourty\n",
            "below fifty\n"
          ]
        }
      ]
    },
    {
      "cell_type": "markdown",
      "source": [
        "# Example 1\n",
        "\n",
        "write a python program that determines if the input age is qualified to vote or not. The qualifying age is 18 years old and above."
      ],
      "metadata": {
        "id": "Yxfx81avXDoR"
      }
    },
    {
      "cell_type": "code",
      "source": [
        "age = int(input(\"Enter your age: \"))\n",
        "\n",
        "if age >= 18:\n",
        "  print(\"You are qualified to vote\")\n",
        "else:\n",
        "  print(\"You are not qualified to vote\")"
      ],
      "metadata": {
        "colab": {
          "base_uri": "https://localhost:8080/"
        },
        "id": "gvqF8bOBXDwg",
        "outputId": "af7274ac-7281-41c5-9cf4-22e59f29a94f"
      },
      "execution_count": 45,
      "outputs": [
        {
          "output_type": "stream",
          "name": "stdout",
          "text": [
            "Enter your age: 18\n",
            "You are qualified to vote\n"
          ]
        }
      ]
    },
    {
      "cell_type": "markdown",
      "source": [
        "# Example 2\n",
        "\n",
        "write a program that determines if the input number is POSITIVE, NEGATIVE, or Zero.\n"
      ],
      "metadata": {
        "id": "maD0P48uZCGZ"
      }
    },
    {
      "cell_type": "code",
      "source": [
        "user_input = int(input(\"Enter a number: \"))\n",
        "\n",
        "if user_input > 0:\n",
        "  print(\"The number is POSITIVE\")\n",
        "elif user_input < 0:\n",
        "  print(\"The number is NEGATIVE\")\n",
        "else:\n",
        "  print(\"The number is Zero\")"
      ],
      "metadata": {
        "colab": {
          "base_uri": "https://localhost:8080/"
        },
        "id": "oyEAK40daI9p",
        "outputId": "ac76a59b-164e-474a-b69f-1325c17164cb"
      },
      "execution_count": 51,
      "outputs": [
        {
          "output_type": "stream",
          "name": "stdout",
          "text": [
            "Enter a number: 699\n",
            "The number is POSITIVE\n"
          ]
        }
      ]
    },
    {
      "cell_type": "markdown",
      "source": [
        "# Example 3\n",
        "\n",
        "write a program to determine if the grades are:\n",
        "  if:\n",
        "      grade >= 75, \"Passed\"\n",
        "      grade = 74, \"Remedial\"\n",
        "      grade < 74, \"Failed\""
      ],
      "metadata": {
        "id": "DOPfZqDwZylg"
      }
    },
    {
      "cell_type": "code",
      "source": [
        "grade = int(input(\"Enter your grade: \"))\n",
        "\n",
        "if grade >= 75:\n",
        "  print(\"You Passed\")\n",
        "elif grade == 74:\n",
        "  print(\"Remedial\")\n",
        "elif grade < 74:\n",
        "  print(\"You Failed\")"
      ],
      "metadata": {
        "colab": {
          "base_uri": "https://localhost:8080/"
        },
        "id": "StJjxKd_bCMi",
        "outputId": "aea19e9d-efeb-4621-d301-682aba2b1b04"
      },
      "execution_count": 63,
      "outputs": [
        {
          "output_type": "stream",
          "name": "stdout",
          "text": [
            "Enter your grade: 93\n",
            "You Passed\n"
          ]
        }
      ]
    }
  ]
}