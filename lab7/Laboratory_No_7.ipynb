{
  "nbformat": 4,
  "nbformat_minor": 0,
  "metadata": {
    "colab": {
      "provenance": [],
      "toc_visible": true,
      "authorship_tag": "ABX9TyNCXsyt5vV4e5Ud5Yc4sErG",
      "include_colab_link": true
    },
    "kernelspec": {
      "name": "python3",
      "display_name": "Python 3"
    },
    "language_info": {
      "name": "python"
    }
  },
  "cells": [
    {
      "cell_type": "markdown",
      "metadata": {
        "id": "view-in-github",
        "colab_type": "text"
      },
      "source": [
        "<a href=\"https://colab.research.google.com/github/AmpongJkevin2/CPE-103-OOP-1-A/blob/main/Laboratory_No_7.ipynb\" target=\"_parent\"><img src=\"https://colab.research.google.com/assets/colab-badge.svg\" alt=\"Open In Colab\"/></a>"
      ]
    },
    {
      "cell_type": "markdown",
      "source": [
        "# Creating the Classes"
      ],
      "metadata": {
        "id": "4-3T_B6wcCcH"
      }
    },
    {
      "cell_type": "code",
      "execution_count": null,
      "metadata": {
        "colab": {
          "base_uri": "https://localhost:8080/"
        },
        "id": "EZzG-d3qXHQn",
        "outputId": "7fe951bc-ba46-48c3-83ce-e96e680d4387"
      },
      "outputs": [
        {
          "output_type": "stream",
          "name": "stdout",
          "text": [
            "Feet=  10 Inches=  20\n",
            "Enter feet and inches of distance1: 21 54\n",
            "Enter feet and inches of distance2: 76 5\n",
            "Distance2 is greater or equal to Distance1\n",
            "Sum of the two Distance is:\n",
            "Feet=  98 Inches=  47\n",
            "Enter feet and inches of distance1: 231 56\n",
            "Enter feet and inches of distance2: 34 897\n",
            "Distance1 is greater than Distance2\n"
          ]
        }
      ],
      "source": [
        "# distance is a class. Distance is measured in terms of feet and inches\n",
        "class distance:\n",
        "  def __init__(self, f, i):\n",
        "    self.feet=f\n",
        "    self.inches=i\n",
        "\n",
        "  # overloading of binary operator > to compare two distances\n",
        "  def __gt__(self, d):\n",
        "    if(self.feet>d.feet):\n",
        "      return(True)\n",
        "    elif((self.feet==d.feet) and (self.inches>d.inches)):\n",
        "      return(True)\n",
        "    else:\n",
        "      return(False)\n",
        "\n",
        "  # overloading of binary operator + to add two distances\n",
        "  def __add__(self, d):\n",
        "    i=self.inches + d.inches\n",
        "    f=self.feet + d.feet\n",
        "    if(i>=12):\n",
        "      i=i-12\n",
        "      f=f+1\n",
        "      return distance(f,i)\n",
        "\n",
        "  # displaying the distance\n",
        "  def show(self):\n",
        "    print(\"Feet= \", self.feet, \"Inches= \",self.inches)\n",
        "    a,b = (input(\"Enter feet and inches of distance1: \")).split()\n",
        "    a,b =[int(a),int(b)]\n",
        "    c,d= (input(\"Enter feet and inches of distance2: \")).split()\n",
        "    c,d =[int(c),int(d)]\n",
        "    d1 = distance(a,b)\n",
        "    d2 = distance(c,d)\n",
        "\n",
        "    if(d1>d2):\n",
        "      print(\"Distance1 is greater than Distance2\")\n",
        "    else:\n",
        "      print(\"Distance2 is greater or equal to Distance1\")\n",
        "      d3=d1+d2\n",
        "      print(\"Sum of the two Distance is:\")\n",
        "      d3.show()\n",
        "\n",
        "dis = distance(10,20)\n",
        "dis.show()"
      ]
    },
    {
      "cell_type": "markdown",
      "source": [
        "# Testing and Obsevation Polymorphism"
      ],
      "metadata": {
        "id": "M7tarTfYcBK-"
      }
    },
    {
      "cell_type": "code",
      "source": [
        "class RegularPolygon:\n",
        "    def __init__(self, side):\n",
        "        self._side = side\n",
        "\n",
        "class Square(RegularPolygon):\n",
        "    def area(self):\n",
        "        return self._side * self._side\n",
        "\n",
        "class EquilateralTriangle(RegularPolygon):\n",
        "    def area(self):\n",
        "        return self._side * self._side * 0.433\n",
        "\n",
        "obj1 = Square(4)\n",
        "obj2 = EquilateralTriangle(3)\n",
        "\n",
        "print(obj1.area())\n",
        "print(obj2.area())"
      ],
      "metadata": {
        "colab": {
          "base_uri": "https://localhost:8080/"
        },
        "id": "NOtymPw8ZL5v",
        "outputId": "c1e84f91-fef9-460a-afa1-a52c9a3ac296"
      },
      "execution_count": null,
      "outputs": [
        {
          "output_type": "stream",
          "name": "stdout",
          "text": [
            "16\n",
            "3.897\n"
          ]
        }
      ]
    },
    {
      "cell_type": "markdown",
      "source": [
        "# Supplementary Activity\n",
        "\n"
      ],
      "metadata": {
        "id": "ztqbtQo4X8Jk"
      }
    },
    {
      "cell_type": "code",
      "source": [
        "class Hexagon(RegularPolygon):\n",
        "    def __init__(self, side):\n",
        "       super().__init__(side)\n",
        "\n",
        "    def area(self):\n",
        "        return (3 * (3**0.5) / 2) * (self._side**2)\n",
        "\n",
        "class Pentagon(RegularPolygon):\n",
        "    def area(self):\n",
        "        return (1/4) * (5 * (5 + 2 * (5**0.5))) * (self._side**2)\n",
        "\n",
        "class Octagon(RegularPolygon):\n",
        "    def area(self):\n",
        "        return 2 * (1 + (2**0.5)) * (self._side**2)\n",
        "\n",
        "\n",
        "obj1 = Square(4)\n",
        "obj2 = EquilateralTriangle(3)\n",
        "obj3 = Hexagon(5)\n",
        "obj4 = Pentagon(7)\n",
        "obj5 = Octagon(4)\n",
        "\n",
        "print(obj1.area())\n",
        "print(obj2.area())\n",
        "print(obj3.area())\n",
        "print(obj4.area())\n",
        "print(obj5.area())"
      ],
      "metadata": {
        "colab": {
          "base_uri": "https://localhost:8080/"
        },
        "id": "89MeckU5Ykgk",
        "outputId": "ea2d61aa-a5a3-44aa-c14c-73aa6ee157a1"
      },
      "execution_count": null,
      "outputs": [
        {
          "output_type": "stream",
          "name": "stdout",
          "text": [
            "16\n",
            "3.897\n",
            "64.9519052838329\n",
            "580.1683272437242\n",
            "77.25483399593904\n"
          ]
        }
      ]
    }
  ]
}